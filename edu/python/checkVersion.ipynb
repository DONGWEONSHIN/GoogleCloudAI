{
 "cells": [
  {
   "cell_type": "code",
   "execution_count": null,
   "metadata": {},
   "outputs": [],
   "source": [
    "# 버전 확인\n",
    "import numpy as np\n",
    "import pandas as pd\n",
    "import matplotlib\n",
    "import seaborn as sns\n",
    "import sklearn\n",
    "# import xgboost\n",
    "# import lightgbm\n",
    "# import catboost\n",
    "import platform\n",
    "import sys\n",
    "\n",
    "!python --version\n",
    "print(\"OS :\",platform.platform())\n",
    "print(f\"Python : {sys.version_info.major}.{sys.version_info.minor}.{sys.version_info.micro}\")\n",
    "print('Numpy :', np.__version__)\n",
    "print('Pandas :', pd.__version__)\n",
    "print('Matplotlib :', matplotlib.__version__)\n",
    "print('Seaborn :', sns.__version__)\n",
    "print('Scikit-learn :', sklearn.__version__)\n",
    "# print(\"xgboost_version:\",xgboost.__version__)\n",
    "# print(\"lightgbm_version:\",lightgbm.__version__)\n",
    "# print(\"catboost_version:\",catboost.__version__)"
   ]
  },
  {
   "cell_type": "code",
   "execution_count": null,
   "metadata": {},
   "outputs": [],
   "source": []
  }
 ],
 "metadata": {
  "kernelspec": {
   "display_name": "my_venv",
   "language": "python",
   "name": "python3"
  },
  "language_info": {
   "codemirror_mode": {
    "name": "ipython",
    "version": 3
   },
   "file_extension": ".py",
   "mimetype": "text/x-python",
   "name": "python",
   "nbconvert_exporter": "python",
   "pygments_lexer": "ipython3",
   "version": "3.9.18"
  }
 },
 "nbformat": 4,
 "nbformat_minor": 2
}
