{
 "cells": [
  {
   "cell_type": "code",
   "execution_count": 1,
   "metadata": {},
   "outputs": [
    {
     "name": "stdout",
     "output_type": "stream",
     "text": [
      "OS : Windows-10-10.0.22621-SP0\n",
      "Python : 3.8.18\n",
      "Numpy : 1.24.3\n",
      "Pandas : 2.0.3\n",
      "Matplotlib : 3.7.2\n",
      "Seaborn : 0.12.2\n",
      "Scikit-learn : 0.22.1\n",
      "xgboost : 1.7.3\n",
      "lightgbm : 3.3.5\n",
      "catboost : 1.2.2\n",
      "xlrd : 2.0.1\n",
      "openpyxl : 3.0.10\n",
      "ipykernel : 6.25.0\n",
      "notebook : 6.5.4\n",
      "graphviz : 0.20.1\n",
      "missingno : 0.4.2\n"
     ]
    }
   ],
   "source": [
    "# 버전 확인\n",
    "import numpy as np\n",
    "import pandas as pd\n",
    "import matplotlib\n",
    "import seaborn as sns\n",
    "import xlrd\n",
    "import openpyxl\n",
    "import sklearn\n",
    "import xgboost\n",
    "import lightgbm\n",
    "import catboost\n",
    "import ipykernel\n",
    "import notebook\n",
    "import pyqt5\n",
    "import graphviz\n",
    "import missingno\n",
    "import platform\n",
    "import sys\n",
    "\n",
    "\n",
    "print(\"OS :\",platform.platform())\n",
    "print(f\"Python : {sys.version_info.major}.{sys.version_info.minor}.{sys.version_info.micro}\")\n",
    "print('Numpy :', np.__version__)\n",
    "print('Pandas :', pd.__version__)\n",
    "print('Matplotlib :', matplotlib.__version__)\n",
    "print('Seaborn :', sns.__version__)\n",
    "print('Scikit-learn :', sklearn.__version__)\n",
    "print(\"xgboost :\",xgboost.__version__)\n",
    "print(\"lightgbm :\",lightgbm.__version__)\n",
    "print(\"catboost :\",catboost.__version__)\n",
    "print(\"xlrd :\",xlrd.__version__)\n",
    "print(\"openpyxl :\",openpyxl.__version__)\n",
    "print(\"ipykernel :\",ipykernel.__version__)\n",
    "print(\"notebook :\",notebook.__version__)\n",
    "print(\"graphviz :\",graphviz.__version__)\n",
    "print(\"missingno :\",missingno.__version__)"
   ]
  },
  {
   "cell_type": "code",
   "execution_count": null,
   "metadata": {},
   "outputs": [],
   "source": []
  }
 ],
 "metadata": {
  "kernelspec": {
   "display_name": "Python 3 (ipykernel)",
   "language": "python",
   "name": "python3"
  },
  "language_info": {
   "codemirror_mode": {
    "name": "ipython",
    "version": 3
   },
   "file_extension": ".py",
   "mimetype": "text/x-python",
   "name": "python",
   "nbconvert_exporter": "python",
   "pygments_lexer": "ipython3",
   "version": "3.8.18"
  }
 },
 "nbformat": 4,
 "nbformat_minor": 2
}
