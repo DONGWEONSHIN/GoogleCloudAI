{
 "cells": [
  {
   "cell_type": "code",
   "execution_count": null,
   "metadata": {},
   "outputs": [],
   "source": [
    "# Python : 3.9.18\n",
    "# Numpy : 1.26.0\n",
    "# Pandas : 2.1.1\n",
    "# Matplotlib : 3.7.2\n",
    "# Seaborn : 0.12.2\n",
    "# Scikit-learn : 1.3.0\n",
    "# Created: OCT. 24. 2023\n",
    "# Author: D.W. SHIN\n",
    "# Scikit-learn 함수 확인하기!!"
   ]
  },
  {
   "cell_type": "code",
   "execution_count": 1,
   "metadata": {},
   "outputs": [],
   "source": []
  },
  {
   "cell_type": "code",
   "execution_count": null,
   "metadata": {},
   "outputs": [],
   "source": []
  }
 ],
 "metadata": {
  "kernelspec": {
   "display_name": "my_venv",
   "language": "python",
   "name": "python3"
  },
  "language_info": {
   "codemirror_mode": {
    "name": "ipython",
    "version": 3
   },
   "file_extension": ".py",
   "mimetype": "text/x-python",
   "name": "python",
   "nbconvert_exporter": "python",
   "pygments_lexer": "ipython3",
   "version": "3.9.18"
  }
 },
 "nbformat": 4,
 "nbformat_minor": 2
}
