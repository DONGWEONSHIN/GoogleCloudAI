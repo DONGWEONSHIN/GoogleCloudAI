{
 "cells": [
  {
   "cell_type": "code",
   "execution_count": null,
   "metadata": {},
   "outputs": [],
   "source": [
    "# Python : 3.9.18\n",
    "# Numpy : 1.26.0\n",
    "# Pandas : 2.1.1\n",
    "# Matplotlib : 3.7.2\n",
    "# Seaborn : 0.12.2\n",
    "# Scikit-learn : 1.3.0\n",
    "# Created: OCT. 23. 2023\n",
    "# Author: D.W. SHIN\n",
    "# iris 데이터 사용하여 사이킷런 정리하기\n",
    "\n",
    "import pandas as pd\n",
    "from sklearn.datasets import load_iris"
   ]
  },
  {
   "cell_type": "code",
   "execution_count": null,
   "metadata": {},
   "outputs": [],
   "source": [
    "iris = load_iris()"
   ]
  },
  {
   "cell_type": "code",
   "execution_count": null,
   "metadata": {},
   "outputs": [],
   "source": [
    "# x data\n",
    "data = iris['data']\n",
    "# y data\n",
    "target = iris['target']\n",
    "# columns\n",
    "feature_names = iris['feature_names']\n",
    "# make dataFrame\n",
    "iris_df = pd.DataFrame(data, columns=feature_names)\n",
    "# add target column\n",
    "iris_df['target'] = target"
   ]
  },
  {
   "cell_type": "code",
   "execution_count": null,
   "metadata": {},
   "outputs": [],
   "source": [
    "iris_df.head()"
   ]
  },
  {
   "cell_type": "code",
   "execution_count": null,
   "metadata": {},
   "outputs": [],
   "source": [
    "iris_df.tail()"
   ]
  },
  {
   "cell_type": "code",
   "execution_count": null,
   "metadata": {},
   "outputs": [],
   "source": [
    "iris_df.info()"
   ]
  },
  {
   "cell_type": "code",
   "execution_count": null,
   "metadata": {},
   "outputs": [],
   "source": [
    "# 시각화 하기\n",
    "import matplotlib.pyplot as plt\n",
    "import seaborn as sns\n",
    "\n",
    "sns.scatterplot(x='sepal width (cm)', y='sepal length (cm)', hue='target', palette='muted', data=iris_df)\n",
    "plt.title('Sepal')\n",
    "plt.show()"
   ]
  },
  {
   "cell_type": "code",
   "execution_count": null,
   "metadata": {},
   "outputs": [],
   "source": [
    "sns.scatterplot(x='petal width (cm)', y='petal length (cm)', hue='target', palette='muted', data=iris_df)\n",
    "plt.title('Petal')\n",
    "plt.show()"
   ]
  },
  {
   "cell_type": "code",
   "execution_count": null,
   "metadata": {},
   "outputs": [],
   "source": [
    "# 데이터셋 나누기\n",
    "from sklearn.model_selection import train_test_split\n",
    "\n",
    "test_size = 0.25\n",
    "\n",
    "x_train, x_test, y_train, y_test = train_test_split(iris_df.drop('target', axis=1), iris_df['target'], stratify=iris_df['target'], test_size=test_size, random_state=0)\n",
    "x_train.shape, y_train.shape"
   ]
  },
  {
   "cell_type": "code",
   "execution_count": null,
   "metadata": {},
   "outputs": [],
   "source": [
    "sns.countplot(y_train, x=y_train.index)"
   ]
  },
  {
   "cell_type": "code",
   "execution_count": null,
   "metadata": {},
   "outputs": [],
   "source": [
    "sns.countplot(y_test, x=y_test.index)"
   ]
  },
  {
   "cell_type": "markdown",
   "metadata": {},
   "source": [
    "### **Logistic Regression**"
   ]
  },
  {
   "cell_type": "code",
   "execution_count": null,
   "metadata": {},
   "outputs": [],
   "source": [
    "# Logistic Regression\n",
    "from sklearn.linear_model import LogisticRegression\n",
    "\n",
    "# step 1. 모델 객체 생성\n",
    "lr_model = LogisticRegression()\n",
    "\n",
    "# step 2. 모델 학습\n",
    "lr_model.fit(x_train, y_train)\n",
    "\n",
    "# step 3. 모델 예측\n",
    "lr_y_pred = lr_model.predict(x_test)"
   ]
  },
  {
   "cell_type": "markdown",
   "metadata": {},
   "source": [
    "#### **Error - lr**"
   ]
  },
  {
   "cell_type": "code",
   "execution_count": null,
   "metadata": {},
   "outputs": [],
   "source": [
    "# Confusion Matrix\n",
    "from sklearn.metrics import confusion_matrix\n",
    "\n",
    "confusion_matrix(y_test, lr_y_pred)"
   ]
  },
  {
   "cell_type": "code",
   "execution_count": null,
   "metadata": {},
   "outputs": [],
   "source": [
    "# import seaborn as sns\n",
    "\n",
    "sns.heatmap(confusion_matrix(y_test, lr_y_pred), annot=True, cmap='Reds')\n",
    "plt.xlabel('predict')\n",
    "plt.ylabel('actual')\n",
    "plt.show()"
   ]
  },
  {
   "cell_type": "code",
   "execution_count": null,
   "metadata": {},
   "outputs": [],
   "source": [
    "from sklearn.metrics import accuracy_score, precision_score, recall_score, f1_score\n",
    "\n",
    "print('accuracy_score : %f' % accuracy_score(y_test, lr_y_pred))\n",
    "print('precision_score : %f' % precision_score(y_test, lr_y_pred, average='micro'))\n",
    "print('recall_score : %f' % recall_score(y_test, lr_y_pred, average='micro'))\n",
    "print('f1_score : %f' % f1_score(y_test, lr_y_pred, average='micro'))"
   ]
  },
  {
   "cell_type": "markdown",
   "metadata": {},
   "source": [
    "### **SGD Classifier - Stochastic Gradient Descent**"
   ]
  },
  {
   "cell_type": "code",
   "execution_count": null,
   "metadata": {},
   "outputs": [],
   "source": [
    "# SGD Classifier\n",
    "from sklearn.linear_model import SGDClassifier\n",
    "\n",
    "# step 1. 모델 객체 생성\n",
    "sgd_model = SGDClassifier(penalty='l1', random_state=0, n_jobs=-1)\n",
    "\n",
    "# step 2. 모델 학습\n",
    "sgd_model.fit(x_train, y_train)\n",
    "\n",
    "# step 3. 모델 예측\n",
    "sgd_y_pred = sgd_model.predict(x_test)"
   ]
  },
  {
   "cell_type": "markdown",
   "metadata": {},
   "source": [
    "#### **Error - sgd**"
   ]
  },
  {
   "cell_type": "code",
   "execution_count": null,
   "metadata": {},
   "outputs": [],
   "source": [
    "# Confusion Matrix\n",
    "# from sklearn.metrics import confusion_matrix\n",
    "\n",
    "confusion_matrix(y_test, sgd_y_pred)"
   ]
  },
  {
   "cell_type": "code",
   "execution_count": null,
   "metadata": {},
   "outputs": [],
   "source": [
    "# import seaborn as sns\n",
    "\n",
    "sns.heatmap(confusion_matrix(y_test, sgd_y_pred), annot=True, cmap='Reds')\n",
    "plt.xlabel('predict')\n",
    "plt.ylabel('actual')\n",
    "plt.show()"
   ]
  },
  {
   "cell_type": "code",
   "execution_count": null,
   "metadata": {},
   "outputs": [],
   "source": [
    "# from sklearn.metrics import accuracy_score, precision_score, recall_score, f1_score\n",
    "\n",
    "print('accuracy_score : %f' % accuracy_score(y_test, sgd_y_pred))\n",
    "print('precision_score : %f' % precision_score(y_test, sgd_y_pred, average='micro'))\n",
    "print('recall_score : %f' % recall_score(y_test, sgd_y_pred, average='micro'))\n",
    "print('f1_score : %f' % f1_score(y_test, sgd_y_pred, average='micro'))"
   ]
  },
  {
   "cell_type": "markdown",
   "metadata": {},
   "source": [
    "### **K Neighbors Classifier**"
   ]
  },
  {
   "cell_type": "code",
   "execution_count": null,
   "metadata": {},
   "outputs": [],
   "source": [
    "# K Neighbors Classifier\n",
    "from sklearn.neighbors import KNeighborsClassifier\n",
    "\n",
    "# step 1. 모델 객체 생성\n",
    "knc_model = KNeighborsClassifier()\n",
    "\n",
    "# step 2. 모델 학습\n",
    "knc_model.fit(x_train, y_train)\n",
    "\n",
    "# step 3. 모델 예측\n",
    "knc_y_pred = knc_model.predict(x_test)"
   ]
  },
  {
   "cell_type": "markdown",
   "metadata": {},
   "source": [
    "#### **Error - knc**"
   ]
  },
  {
   "cell_type": "code",
   "execution_count": null,
   "metadata": {},
   "outputs": [],
   "source": [
    "# Confusion Matrix\n",
    "# from sklearn.metrics import confusion_matrix\n",
    "\n",
    "confusion_matrix(y_test, knc_y_pred)"
   ]
  },
  {
   "cell_type": "code",
   "execution_count": null,
   "metadata": {},
   "outputs": [],
   "source": [
    "# import seaborn as sns\n",
    "\n",
    "sns.heatmap(confusion_matrix(y_test, knc_y_pred), annot=True, cmap='Reds')\n",
    "plt.xlabel('predict')\n",
    "plt.ylabel('actual')\n",
    "plt.show()"
   ]
  },
  {
   "cell_type": "code",
   "execution_count": null,
   "metadata": {},
   "outputs": [],
   "source": [
    "# from sklearn.metrics import accuracy_score, precision_score, recall_score, f1_score\n",
    "\n",
    "print('accuracy_score : %f' % accuracy_score(y_test, knc_y_pred))\n",
    "print('precision_score : %f' % precision_score(y_test, knc_y_pred, average='micro'))\n",
    "print('recall_score : %f' % recall_score(y_test, knc_y_pred, average='micro'))\n",
    "print('f1_score : %f' % f1_score(y_test, knc_y_pred, average='micro'))"
   ]
  },
  {
   "cell_type": "markdown",
   "metadata": {},
   "source": [
    "### **SVC - Support Vector Classifier**"
   ]
  },
  {
   "cell_type": "code",
   "execution_count": null,
   "metadata": {},
   "outputs": [],
   "source": [
    "# K Neighbors Classifier\n",
    "from sklearn.svm import SVC\n",
    "\n",
    "# step 1. 모델 객체 생성\n",
    "svc_model = SVC(random_state=0)\n",
    "\n",
    "# step 2. 모델 학습\n",
    "svc_model.fit(x_train, y_train)\n",
    "\n",
    "# step 3. 모델 예측\n",
    "svc_y_pred = svc_model.predict(x_test)"
   ]
  },
  {
   "cell_type": "markdown",
   "metadata": {},
   "source": [
    "#### **Error - svc**"
   ]
  },
  {
   "cell_type": "code",
   "execution_count": null,
   "metadata": {},
   "outputs": [],
   "source": [
    "# Confusion Matrix\n",
    "# from sklearn.metrics import confusion_matrix\n",
    "\n",
    "confusion_matrix(y_test, svc_y_pred)"
   ]
  },
  {
   "cell_type": "code",
   "execution_count": null,
   "metadata": {},
   "outputs": [],
   "source": [
    "# import seaborn as sns\n",
    "\n",
    "sns.heatmap(confusion_matrix(y_test, svc_y_pred), annot=True, cmap='Reds')\n",
    "plt.xlabel('predict')\n",
    "plt.ylabel('actual')\n",
    "plt.show()"
   ]
  },
  {
   "cell_type": "code",
   "execution_count": null,
   "metadata": {},
   "outputs": [],
   "source": [
    "# from sklearn.metrics import accuracy_score, precision_score, recall_score, f1_score\n",
    "\n",
    "print('accuracy_score : %f' % accuracy_score(y_test, svc_y_pred))\n",
    "print('precision_score : %f' % precision_score(y_test, svc_y_pred, average='micro'))\n",
    "print('recall_score : %f' % recall_score(y_test, svc_y_pred, average='micro'))\n",
    "print('f1_score : %f' % f1_score(y_test, svc_y_pred, average='micro'))"
   ]
  },
  {
   "cell_type": "markdown",
   "metadata": {},
   "source": [
    "### **Decision Tree Classifier**"
   ]
  },
  {
   "cell_type": "code",
   "execution_count": null,
   "metadata": {},
   "outputs": [],
   "source": [
    "# Decision Tree Classifier\n",
    "from sklearn.tree import DecisionTreeClassifier\n",
    "\n",
    "# step 1. 모델 객체 생성\n",
    "dtc_model = DecisionTreeClassifier(max_depth=2, random_state=0)\n",
    "\n",
    "# step 2. 모델 학습\n",
    "dtc_model.fit(x_train, y_train)\n",
    "\n",
    "# step 3. 모델 예측\n",
    "dtc_y_pred = dtc_model.predict(x_test)"
   ]
  },
  {
   "cell_type": "markdown",
   "metadata": {},
   "source": [
    "#### **Error - dtc**"
   ]
  },
  {
   "cell_type": "code",
   "execution_count": null,
   "metadata": {},
   "outputs": [],
   "source": [
    "# Confusion Matrix\n",
    "# from sklearn.metrics import confusion_matrix\n",
    "\n",
    "confusion_matrix(y_test, dtc_y_pred)"
   ]
  },
  {
   "cell_type": "code",
   "execution_count": null,
   "metadata": {},
   "outputs": [],
   "source": [
    "# import seaborn as sns\n",
    "\n",
    "sns.heatmap(confusion_matrix(y_test, dtc_y_pred), annot=True, cmap='Reds')\n",
    "plt.xlabel('predict')\n",
    "plt.ylabel('actual')\n",
    "plt.show()"
   ]
  },
  {
   "cell_type": "code",
   "execution_count": null,
   "metadata": {},
   "outputs": [],
   "source": [
    "# from sklearn.metrics import accuracy_score, precision_score, recall_score, f1_score\n",
    "\n",
    "print('accuracy_score : %f' % accuracy_score(y_test, dtc_y_pred))\n",
    "print('precision_score : %f' % precision_score(y_test, dtc_y_pred, average='micro'))\n",
    "print('recall_score : %f' % recall_score(y_test, dtc_y_pred, average='micro'))\n",
    "print('f1_score : %f' % f1_score(y_test, dtc_y_pred, average='micro'))"
   ]
  }
 ],
 "metadata": {
  "kernelspec": {
   "display_name": "my_venv",
   "language": "python",
   "name": "python3"
  },
  "language_info": {
   "codemirror_mode": {
    "name": "ipython",
    "version": 3
   },
   "file_extension": ".py",
   "mimetype": "text/x-python",
   "name": "python",
   "nbconvert_exporter": "python",
   "pygments_lexer": "ipython3",
   "version": "3.9.18"
  }
 },
 "nbformat": 4,
 "nbformat_minor": 2
}
