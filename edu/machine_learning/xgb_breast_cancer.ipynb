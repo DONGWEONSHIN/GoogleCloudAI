{
 "cells": [
  {
   "cell_type": "code",
   "execution_count": null,
   "metadata": {},
   "outputs": [],
   "source": [
    "# OS : macOS-10.16-x86_64-i386-64bit\n",
    "# Python : 3.8.18\n",
    "# Numpy : 1.24.3\n",
    "# Pandas : 2.0.3\n",
    "# Matplotlib : 3.7.2\n",
    "# Seaborn : 0.12.2\n",
    "# Scikit-learn : 1.2.2\n",
    "# xgboost : 1.7.3\n",
    "# lightgbm : 3.3.5\n",
    "# catboost : 1.1.1\n",
    "# xlrd : 2.0.1\n",
    "# openpyxl : 3.0.10\n",
    "# ipykernel : 6.25.0\n",
    "# notebook : 6.5.4\n",
    "# graphviz : 0.20.1\n",
    "# Created: OCT. 30. 2023\n",
    "# Author: D.W. SHIN\n",
    "\n",
    "\n",
    "import numpy as np\n",
    "import pandas as pd\n",
    "import matplotlib.pyplot as plt\n",
    "import seaborn as sns\n",
    "\n",
    "import missingno as msno\n",
    "\n",
    "from xgboost import XGBClassifier\n",
    "\n",
    "from sklearn.datasets import load_breast_cancer\n",
    "from sklearn.model_selection import train_test_split\n",
    "from sklearn.model_selection import GridSearchCV\n",
    "from sklearn.metrics import confusion_matrix\n",
    "from sklearn.metrics import accuracy_score\n",
    "from sklearn.metrics import precision_score\n",
    "from sklearn.metrics import recall_score\n",
    "from sklearn.metrics import f1_score\n",
    "from sklearn.metrics import roc_auc_score\n"
   ]
  },
  {
   "cell_type": "code",
   "execution_count": null,
   "metadata": {},
   "outputs": [],
   "source": [
    "dataset = load_breast_cancer()\n",
    "x_data = dataset.data\n",
    "y_data = dataset.target\n",
    "columns = dataset.feature_names\n",
    "\n",
    "cancer_df = pd.DataFrame(data= x_data, columns=columns)\n",
    "cancer_df.head()"
   ]
  },
  {
   "cell_type": "code",
   "execution_count": null,
   "metadata": {},
   "outputs": [],
   "source": [
    "# target 값이 악성과 양성의 갯수가 어떻게 될까?\n",
    "cancer_df['target'] = y_data\n",
    "cancer_df['target'].value_counts()"
   ]
  },
  {
   "cell_type": "markdown",
   "metadata": {},
   "source": [
    "### EDA"
   ]
  },
  {
   "cell_type": "code",
   "execution_count": null,
   "metadata": {},
   "outputs": [],
   "source": [
    "# 정상적인 데이터의 갯수 확인하기\n",
    "msno.bar(cancer_df, figsize=(16,5), color='lightblue')\n",
    "plt.show()"
   ]
  },
  {
   "cell_type": "markdown",
   "metadata": {},
   "source": [
    "#### 결측치를 만들어 봅시다."
   ]
  },
  {
   "cell_type": "code",
   "execution_count": null,
   "metadata": {},
   "outputs": [],
   "source": [
    "temp_df = cancer_df.copy()\n",
    "temp_df.head()"
   ]
  },
  {
   "cell_type": "code",
   "execution_count": null,
   "metadata": {},
   "outputs": [],
   "source": [
    "# 결측치 만들기\n",
    "# temp_df.iloc[24:27, [1,9]] = np.nan\n",
    "# temp_df.iloc[13, 11:14] = np.nan\n",
    "temp_df.loc[temp_df['mean radius']==19.69, ['mean radius']]=np.nan\n",
    "temp_df.head()"
   ]
  },
  {
   "cell_type": "code",
   "execution_count": null,
   "metadata": {},
   "outputs": [],
   "source": [
    "# 결측치의 위치 표시하기\n",
    "msno.matrix(temp_df)"
   ]
  },
  {
   "cell_type": "code",
   "execution_count": null,
   "metadata": {},
   "outputs": [],
   "source": [
    "msno.__version__"
   ]
  },
  {
   "cell_type": "code",
   "execution_count": null,
   "metadata": {},
   "outputs": [],
   "source": []
  }
 ],
 "metadata": {
  "kernelspec": {
   "display_name": "Python 3 (ipykernel)",
   "language": "python",
   "name": "python3"
  },
  "language_info": {
   "codemirror_mode": {
    "name": "ipython",
    "version": 3
   },
   "file_extension": ".py",
   "mimetype": "text/x-python",
   "name": "python",
   "nbconvert_exporter": "python",
   "pygments_lexer": "ipython3",
   "version": "3.8.18"
  }
 },
 "nbformat": 4,
 "nbformat_minor": 4
}
