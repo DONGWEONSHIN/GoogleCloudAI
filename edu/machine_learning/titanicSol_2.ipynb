{
 "cells": [
  {
   "cell_type": "code",
   "execution_count": null,
   "metadata": {},
   "outputs": [],
   "source": [
    "# Python : 3.9.18\n",
    "# Numpy : 1.26.0\n",
    "# Pandas : 2.1.1\n",
    "# Matplotlib : 3.7.2\n",
    "# Seaborn : 0.12.2\n",
    "# Scikit-learn : 1.3.0\n",
    "# Created: OCT. 23. 2023\n",
    "# Author: D.W. SHIN\n",
    "\n",
    "import numpy as np\n",
    "import pandas as pd\n",
    "import matplotlib.pyplot as plt\n",
    "import seaborn as sns\n",
    "\n",
    "from sklearn.preprocessing import LabelEncoder\n",
    "from sklearn.model_selection import train_test_split\n",
    "\n",
    "from sklearn.linear_model import LogisticRegression\n",
    "from sklearn.linear_model import SGDClassifier\n",
    "from sklearn.ensemble import RandomForestClassifier\n",
    "from sklearn.ensemble import GradientBoostingClassifier\n",
    "from sklearn.ensemble import VotingClassifier\n",
    "from sklearn.model_selection import GridSearchCV\n",
    "from sklearn.metrics import accuracy_score, precision_score, recall_score, f1_score\n",
    "from sklearn.model_selection import cross_val_score"
   ]
  },
  {
   "cell_type": "code",
   "execution_count": null,
   "metadata": {},
   "outputs": [],
   "source": [
    "train_df = pd.read_csv('./data/train.csv')\n",
    "test_df = pd.read_csv('./data/test.csv')\n",
    "\n",
    "train_df.info()"
   ]
  },
  {
   "cell_type": "markdown",
   "metadata": {},
   "source": [
    "### 결측치 처리 부분"
   ]
  },
  {
   "cell_type": "code",
   "execution_count": null,
   "metadata": {},
   "outputs": [],
   "source": [
    "train_df['Age'].fillna(train_df['Age'].mean(), inplace=True)\n",
    "train_df['Age'].isnull().sum()"
   ]
  },
  {
   "cell_type": "code",
   "execution_count": null,
   "metadata": {},
   "outputs": [],
   "source": [
    "train_df['Embarked'].fillna(train_df['Embarked'].mode()[0], inplace=True)\n",
    "train_df['Embarked'].isnull().sum()"
   ]
  },
  {
   "cell_type": "markdown",
   "metadata": {},
   "source": [
    "### 추가 컬럼"
   ]
  },
  {
   "cell_type": "code",
   "execution_count": null,
   "metadata": {},
   "outputs": [],
   "source": [
    "train_df['Age_Cat'] = pd.cut(train_df['Age'],\n",
    "                             bins=[0, 3, 7, 15, 30, 60, 100],\n",
    "                             include_lowest=True,\n",
    "                             labels=['Baby', 'Children', 'Teenage', 'Young', 'Adult', 'Old'])"
   ]
  },
  {
   "cell_type": "code",
   "execution_count": null,
   "metadata": {},
   "outputs": [],
   "source": [
    "train_df['FamilySize'] = train_df['SibSp'] + train_df['Parch'] + 1"
   ]
  },
  {
   "cell_type": "code",
   "execution_count": null,
   "metadata": {},
   "outputs": [],
   "source": [
    "# VotingClassifier\n",
    "# accuracy_score  : 0.8547\n",
    "# precision_score : 0.8547\n",
    "# recall_score    : 0.8547\n",
    "# f1_score        : 0.8547\n",
    "\n",
    "# train_df['IsAlone'] = 1\n",
    "# train_df['IsAlone'].loc[train_df['FamilySize'] > 1] = 0"
   ]
  },
  {
   "cell_type": "code",
   "execution_count": null,
   "metadata": {},
   "outputs": [],
   "source": [
    "train_df['AgeBand'] = pd.cut(train_df['Age'], 5)\n",
    "train_df[['AgeBand', 'Survived']].groupby(['AgeBand'], as_index=False).mean().sort_values(by='AgeBand', ascending=True)"
   ]
  },
  {
   "cell_type": "code",
   "execution_count": null,
   "metadata": {},
   "outputs": [],
   "source": [
    "train_df.loc[ train_df['Age'] <= 16, 'Age'] = 0\n",
    "train_df.loc[(train_df['Age'] > 16) & (train_df['Age'] <= 32), 'Age'] = 1\n",
    "train_df.loc[(train_df['Age'] > 32) & (train_df['Age'] <= 48), 'Age'] = 2\n",
    "train_df.loc[(train_df['Age'] > 48) & (train_df['Age'] <= 64), 'Age'] = 3\n",
    "train_df.loc[ train_df['Age'] > 64, 'Age'] = 4\n",
    "\n",
    "train_df.head()"
   ]
  },
  {
   "cell_type": "markdown",
   "metadata": {},
   "source": [
    "### 레이블링 작업"
   ]
  },
  {
   "cell_type": "code",
   "execution_count": null,
   "metadata": {},
   "outputs": [],
   "source": [
    "le = LabelEncoder()\n",
    "train_df['Sex'] = le.fit_transform(train_df['Sex'])\n",
    "train_df['Embarked'] = le.fit_transform(train_df['Embarked'])\n",
    "train_df['Age_Cat'] = le.fit_transform(train_df['Age_Cat'])"
   ]
  },
  {
   "cell_type": "markdown",
   "metadata": {},
   "source": [
    "### 컬럼 삭제"
   ]
  },
  {
   "cell_type": "code",
   "execution_count": null,
   "metadata": {},
   "outputs": [],
   "source": [
    "train_df.info()"
   ]
  },
  {
   "cell_type": "code",
   "execution_count": null,
   "metadata": {},
   "outputs": [],
   "source": [
    "train_df.drop(['PassengerId', 'Name', 'Ticket', 'Cabin', 'AgeBand'], axis=1, inplace=True)\n",
    "train_df.tail()"
   ]
  },
  {
   "cell_type": "markdown",
   "metadata": {},
   "source": [
    "#### gcp에 소스 파일 만들기"
   ]
  },
  {
   "cell_type": "code",
   "execution_count": null,
   "metadata": {},
   "outputs": [],
   "source": [
    "train2_df = train_df.copy()\n",
    "\n",
    "new_df = pd.concat([train_df, train2_df])\n",
    "\n",
    "new_df.info()\n",
    "\n"
   ]
  },
  {
   "cell_type": "code",
   "execution_count": null,
   "metadata": {},
   "outputs": [],
   "source": [
    "new_df.head()"
   ]
  },
  {
   "cell_type": "code",
   "execution_count": null,
   "metadata": {},
   "outputs": [],
   "source": [
    "new_df.reset_index(drop=True, inplace=True)"
   ]
  },
  {
   "cell_type": "code",
   "execution_count": null,
   "metadata": {},
   "outputs": [],
   "source": [
    "new_df.head()"
   ]
  },
  {
   "cell_type": "code",
   "execution_count": null,
   "metadata": {},
   "outputs": [],
   "source": [
    "new_df.to_csv('titan_new_data3.csv', index=False, sep=',', na_rep='NaN')"
   ]
  },
  {
   "cell_type": "code",
   "execution_count": null,
   "metadata": {},
   "outputs": [],
   "source": [
    "all_df = pd.read_csv('titan_new_data3.csv')\n",
    "\n",
    "all_df.info()"
   ]
  },
  {
   "cell_type": "code",
   "execution_count": null,
   "metadata": {},
   "outputs": [],
   "source": [
    "all_df.isna().sum()"
   ]
  },
  {
   "cell_type": "markdown",
   "metadata": {},
   "source": [
    "### 데이터셋 나누기"
   ]
  },
  {
   "cell_type": "code",
   "execution_count": null,
   "metadata": {},
   "outputs": [],
   "source": [
    "test_size = 0.2\n",
    "\n",
    "x_train, x_test, y_train, y_test = train_test_split(train_df.drop(['Survived'], axis=1), train_df['Survived'], test_size=test_size, stratify=train_df['Survived'], random_state=11)"
   ]
  },
  {
   "cell_type": "markdown",
   "metadata": {},
   "source": [
    "### 모델 선택 및 평가"
   ]
  },
  {
   "cell_type": "markdown",
   "metadata": {},
   "source": [
    "#### 1. LogisticRegression"
   ]
  },
  {
   "cell_type": "code",
   "execution_count": null,
   "metadata": {},
   "outputs": [],
   "source": [
    "# STEP 1. 모델 객체 생성\n",
    "model = LogisticRegression()\n",
    "\n",
    "# STEP 2. 모델 학습\n",
    "model.fit(x_train, y_train)\n",
    "\n",
    "# STEP 3. 모델 예측\n",
    "y_pred = model.predict(x_test)\n",
    "\n",
    "# SETP 4. 평가\n",
    "print('accuracy_score  : {0:.4f}'.format(accuracy_score(y_test, y_pred)))\n",
    "print('precision_score : {0:.4f}'.format(precision_score(y_test, y_pred, average='micro')))\n",
    "print('recall_score    : {0:.4f}'.format(recall_score(y_test, y_pred, average='micro')))\n",
    "print('f1_score        : {0:.4f}'.format(f1_score(y_test, y_pred, average='micro')))"
   ]
  },
  {
   "cell_type": "markdown",
   "metadata": {},
   "source": [
    "##### 1.1 파라미터 최적화"
   ]
  },
  {
   "cell_type": "code",
   "execution_count": null,
   "metadata": {},
   "outputs": [],
   "source": [
    "model = LogisticRegression(n_jobs=-1)\n",
    "\n",
    "params = {'penalty':['l2', 'l1', 'elasticnet', None],'solver':['lbfgs', 'liblinear', 'newton-cg', 'newton-cholesky', 'sag', 'saga'] }\n",
    "\n",
    "grid = GridSearchCV(model, param_grid=params, cv=3, refit=False)\n",
    "grid.fit(x_train, y_train)\n",
    "\n",
    "scores_df = pd.DataFrame(grid.cv_results_)\n",
    "scores_df[['params', 'mean_test_score', 'rank_test_score', 'split0_test_score', 'split1_test_score', 'split2_test_score']]"
   ]
  },
  {
   "cell_type": "code",
   "execution_count": null,
   "metadata": {},
   "outputs": [],
   "source": [
    "print('GridSearchCV 최적 파라미터:', grid.best_params_)\n",
    "print('GridSearchCV 최고 정확도: {0:.4f}'.format(grid.best_score_))"
   ]
  },
  {
   "cell_type": "markdown",
   "metadata": {},
   "source": [
    "##### 1.2 파라미터 적용"
   ]
  },
  {
   "cell_type": "code",
   "execution_count": null,
   "metadata": {},
   "outputs": [],
   "source": [
    "# STEP 1. 모델 객체 생성\n",
    "model = LogisticRegression(penalty='l2', solver='liblinear')\n",
    "\n",
    "# STEP 2. 모델 학습\n",
    "model.fit(x_train, y_train)\n",
    "\n",
    "# STEP 3. 모델 예측\n",
    "y_pred = model.predict(x_test)\n",
    "\n",
    "# SETP 4. 평가\n",
    "print('accuracy_score  : {0:.4f}'.format(accuracy_score(y_test, y_pred)))\n",
    "print('precision_score : {0:.4f}'.format(precision_score(y_test, y_pred, average='micro')))\n",
    "print('recall_score    : {0:.4f}'.format(recall_score(y_test, y_pred, average='micro')))\n",
    "print('f1_score        : {0:.4f}'.format(f1_score(y_test, y_pred, average='micro')))"
   ]
  },
  {
   "cell_type": "markdown",
   "metadata": {},
   "source": [
    "##### 1.3 교차검증"
   ]
  },
  {
   "cell_type": "code",
   "execution_count": null,
   "metadata": {},
   "outputs": [],
   "source": [
    "# 성능 지표는 정확도(accuracy) , 교차 검증 세트는 3개\n",
    "scores = cross_val_score(model, x_train, y_train, cv=3)\n",
    "print('교차 검증별 정확도:',np.round(scores, 4))\n",
    "print('평균 검증 정확도:', np.round(np.mean(scores), 4))"
   ]
  },
  {
   "cell_type": "markdown",
   "metadata": {},
   "source": [
    "#### 2. SGDClassifier"
   ]
  },
  {
   "cell_type": "code",
   "execution_count": null,
   "metadata": {},
   "outputs": [],
   "source": [
    "# STEP 1. 모델 객체 생성\n",
    "model = SGDClassifier(random_state=123)\n",
    "\n",
    "# STEP 2. 모델 학습\n",
    "model.fit(x_train, y_train)\n",
    "\n",
    "# STEP 3. 모델 예측\n",
    "y_pred = model.predict(x_test)\n",
    "\n",
    "# SETP 4. 평가\n",
    "print('accuracy_score  : {0:.4f}'.format(accuracy_score(y_test, y_pred)))\n",
    "print('precision_score : {0:.4f}'.format(precision_score(y_test, y_pred, average='micro')))\n",
    "print('recall_score    : {0:.4f}'.format(recall_score(y_test, y_pred, average='micro')))\n",
    "print('f1_score        : {0:.4f}'.format(f1_score(y_test, y_pred, average='micro')))"
   ]
  },
  {
   "cell_type": "markdown",
   "metadata": {},
   "source": [
    "##### 2.1 파라미터 최적화"
   ]
  },
  {
   "cell_type": "code",
   "execution_count": null,
   "metadata": {},
   "outputs": [],
   "source": [
    "model = SGDClassifier(random_state=123, n_jobs=-1)\n",
    "\n",
    "params = {'penalty':['l2', 'l1', 'elasticnet', None]}\n",
    "\n",
    "grid = GridSearchCV(model, param_grid=params, cv=3, refit=True)\n",
    "grid.fit(x_train, y_train)\n",
    "\n",
    "# scores_df = pd.DataFrame(grid.cv_results_)\n",
    "# scores_df[['params', 'mean_test_score', 'rank_test_score', 'split0_test_score', 'split1_test_score', 'split2_test_score']]\n"
   ]
  },
  {
   "cell_type": "code",
   "execution_count": null,
   "metadata": {},
   "outputs": [],
   "source": [
    "print('GridSearchCV 최적 파라미터:', grid.best_params_)\n",
    "print('GridSearchCV 최고 정확도: {0:.4f}'.format(grid.best_score_))"
   ]
  },
  {
   "cell_type": "markdown",
   "metadata": {},
   "source": [
    "##### 2.2 파라미터 적용"
   ]
  },
  {
   "cell_type": "code",
   "execution_count": null,
   "metadata": {},
   "outputs": [],
   "source": [
    "# STEP 1. 모델 객체 생성\n",
    "model = SGDClassifier(random_state=123)\n",
    "\n",
    "# STEP 2. 모델 학습\n",
    "model.fit(x_train, y_train)\n",
    "\n",
    "# STEP 3. 모델 예측\n",
    "y_pred = model.predict(x_test)\n",
    "\n",
    "# SETP 4. 평가\n",
    "print('accuracy_score  : {0:.4f}'.format(accuracy_score(y_test, y_pred)))\n",
    "print('precision_score : {0:.4f}'.format(precision_score(y_test, y_pred, average='micro')))\n",
    "print('recall_score    : {0:.4f}'.format(recall_score(y_test, y_pred, average='micro')))\n",
    "print('f1_score        : {0:.4f}'.format(f1_score(y_test, y_pred, average='micro')))"
   ]
  },
  {
   "cell_type": "markdown",
   "metadata": {},
   "source": [
    "##### 2.3 교차검증"
   ]
  },
  {
   "cell_type": "code",
   "execution_count": null,
   "metadata": {},
   "outputs": [],
   "source": [
    "# 성능 지표는 정확도(accuracy) , 교차 검증 세트는 3개\n",
    "scores = cross_val_score(model, x_train, y_train, cv=3)\n",
    "print('교차 검증별 정확도:',np.round(scores, 4))\n",
    "print('평균 검증 정확도:', np.round(np.mean(scores), 4))"
   ]
  },
  {
   "cell_type": "markdown",
   "metadata": {},
   "source": [
    "#### 3. RandomForestClassifier"
   ]
  },
  {
   "cell_type": "code",
   "execution_count": null,
   "metadata": {},
   "outputs": [],
   "source": [
    "# STEP 1. 모델 객체 생성\n",
    "model = RandomForestClassifier(random_state=123)\n",
    "\n",
    "# STEP 2. 모델 학습\n",
    "model.fit(x_train, y_train)\n",
    "\n",
    "# STEP 3. 모델 예측\n",
    "y_pred = model.predict(x_test)\n",
    "\n",
    "# SETP 4. 평가\n",
    "print('accuracy_score  : {0:.4f}'.format(accuracy_score(y_test, y_pred)))\n",
    "print('precision_score : {0:.4f}'.format(precision_score(y_test, y_pred, average='micro')))\n",
    "print('recall_score    : {0:.4f}'.format(recall_score(y_test, y_pred, average='micro')))\n",
    "print('f1_score        : {0:.4f}'.format(f1_score(y_test, y_pred, average='micro')))"
   ]
  },
  {
   "cell_type": "markdown",
   "metadata": {},
   "source": [
    "##### 3.1 파라미터 최적화"
   ]
  },
  {
   "cell_type": "code",
   "execution_count": null,
   "metadata": {},
   "outputs": [],
   "source": [
    "model = RandomForestClassifier(random_state=123, n_jobs=-1)\n",
    "\n",
    "params = {\n",
    "    'n_estimators':[10, 20, 50, 100, 200, 500, 1000],\n",
    "    'max_depth' : [6, 8, 10, 12], \n",
    "    'min_samples_leaf' : [8, 12, 18],\n",
    "    'min_samples_split' : [8, 16, 20]\n",
    "}\n",
    "\n",
    "grid = GridSearchCV(model, param_grid=params, cv=3, refit=False)\n",
    "grid.fit(x_train , y_train)\n"
   ]
  },
  {
   "cell_type": "code",
   "execution_count": null,
   "metadata": {},
   "outputs": [],
   "source": [
    "print('GridSearchCV 최적 파라미터:', grid.best_params_)\n",
    "print('GridSearchCV 최고 정확도: {0:.4f}'.format(grid.best_score_))"
   ]
  },
  {
   "cell_type": "markdown",
   "metadata": {},
   "source": [
    "##### 3.2 파라미터 적용"
   ]
  },
  {
   "cell_type": "code",
   "execution_count": null,
   "metadata": {},
   "outputs": [],
   "source": [
    "# STEP 1. 모델 객체 생성\n",
    "model = RandomForestClassifier(random_state=123, n_estimators=50, max_depth=6, min_samples_leaf=8, min_samples_split=20)\n",
    "\n",
    "# STEP 2. 모델 학습\n",
    "model.fit(x_train, y_train)\n",
    "\n",
    "# STEP 3. 모델 예측\n",
    "y_pred = model.predict(x_test)\n",
    "\n",
    "# SETP 4. 평가\n",
    "print('accuracy_score  : {0:.4f}'.format(accuracy_score(y_test, y_pred)))\n",
    "print('precision_score : {0:.4f}'.format(precision_score(y_test, y_pred, average='micro')))\n",
    "print('recall_score    : {0:.4f}'.format(recall_score(y_test, y_pred, average='micro')))\n",
    "print('f1_score        : {0:.4f}'.format(f1_score(y_test, y_pred, average='micro')))"
   ]
  },
  {
   "cell_type": "markdown",
   "metadata": {},
   "source": [
    "##### 3.3 교차검증"
   ]
  },
  {
   "cell_type": "code",
   "execution_count": null,
   "metadata": {},
   "outputs": [],
   "source": [
    "# 성능 지표는 정확도(accuracy) , 교차 검증 세트는 3개\n",
    "scores = cross_val_score(model, x_train, y_train, cv=3)\n",
    "print('교차 검증별 정확도:',np.round(scores, 4))\n",
    "print('평균 검증 정확도:', np.round(np.mean(scores), 4))"
   ]
  },
  {
   "cell_type": "markdown",
   "metadata": {},
   "source": [
    "#### 4. GradientBoostingClassifier"
   ]
  },
  {
   "cell_type": "code",
   "execution_count": null,
   "metadata": {},
   "outputs": [],
   "source": [
    "# STEP 1. 모델 객체 생성\n",
    "model = GradientBoostingClassifier()\n",
    "\n",
    "# STEP 2. 모델 학습\n",
    "model.fit(x_train, y_train)\n",
    "\n",
    "# STEP 3. 모델 예측\n",
    "y_pred = model.predict(x_test)\n",
    "\n",
    "# SETP 4. 평가\n",
    "print('accuracy_score  : {0:.4f}'.format(accuracy_score(y_test, y_pred)))\n",
    "print('precision_score : {0:.4f}'.format(precision_score(y_test, y_pred, average='micro')))\n",
    "print('recall_score    : {0:.4f}'.format(recall_score(y_test, y_pred, average='micro')))\n",
    "print('f1_score        : {0:.4f}'.format(f1_score(y_test, y_pred, average='micro')))"
   ]
  },
  {
   "cell_type": "markdown",
   "metadata": {},
   "source": [
    "##### 4.1 파라미터 최적화"
   ]
  },
  {
   "cell_type": "code",
   "execution_count": null,
   "metadata": {},
   "outputs": [],
   "source": [
    "model = GradientBoostingClassifier()\n",
    "\n",
    "params = {\n",
    "    'n_estimators':[10, 20, 50, 100, 200, 500, 1000],\n",
    "    'learning_rate' : [ 0.05, 0.1]\n",
    "}\n",
    "\n",
    "grid = GridSearchCV(model, param_grid=params, cv=2, verbose=1, refit=False)\n",
    "grid.fit(x_train , y_train)"
   ]
  },
  {
   "cell_type": "code",
   "execution_count": null,
   "metadata": {},
   "outputs": [],
   "source": [
    "print('GridSearchCV 최적 파라미터:', grid.best_params_)\n",
    "print('GridSearchCV 최고 정확도: {0:.4f}'.format(grid.best_score_))"
   ]
  },
  {
   "cell_type": "markdown",
   "metadata": {},
   "source": [
    "##### 4.2 파라미터 적용"
   ]
  },
  {
   "cell_type": "code",
   "execution_count": null,
   "metadata": {},
   "outputs": [],
   "source": [
    "# STEP 1. 모델 객체 생성\n",
    "model = GradientBoostingClassifier(n_estimators=50, learning_rate=0.1)\n",
    "\n",
    "# STEP 2. 모델 학습\n",
    "model.fit(x_train, y_train)\n",
    "\n",
    "# STEP 3. 모델 예측\n",
    "y_pred = model.predict(x_test)\n",
    "\n",
    "# SETP 4. 평가\n",
    "print('accuracy_score  : {0:.4f}'.format(accuracy_score(y_test, y_pred)))\n",
    "print('precision_score : {0:.4f}'.format(precision_score(y_test, y_pred, average='micro')))\n",
    "print('recall_score    : {0:.4f}'.format(recall_score(y_test, y_pred, average='micro')))\n",
    "print('f1_score        : {0:.4f}'.format(f1_score(y_test, y_pred, average='micro')))"
   ]
  },
  {
   "cell_type": "markdown",
   "metadata": {},
   "source": [
    "##### 4.3 교차검증"
   ]
  },
  {
   "cell_type": "code",
   "execution_count": null,
   "metadata": {},
   "outputs": [],
   "source": [
    "# 성능 지표는 정확도(accuracy) , 교차 검증 세트는 3개\n",
    "scores = cross_val_score(model, x_train, y_train, cv=3)\n",
    "print('교차 검증별 정확도:',np.round(scores, 4))\n",
    "print('평균 검증 정확도:', np.round(np.mean(scores), 4))"
   ]
  },
  {
   "cell_type": "markdown",
   "metadata": {},
   "source": [
    "#### 5. VotingClassifier"
   ]
  },
  {
   "cell_type": "code",
   "execution_count": null,
   "metadata": {},
   "outputs": [],
   "source": [
    "# STEP 1. 모델 선택\n",
    "lr_clf = LogisticRegression(penalty='l2', solver='liblinear')\n",
    "rfc_clf = RandomForestClassifier(random_state=123, n_estimators=50, max_depth=6, min_samples_leaf=8, min_samples_split=20)\n",
    "gbc_clf = GradientBoostingClassifier(n_estimators=50, learning_rate=0.1)\n",
    "\n",
    "# 개별 모델을 소프트 보팅 기반의 앙상블 모델로 구현한 분류기 \n",
    "vo_clf = VotingClassifier(estimators=[('LR',lr_clf), ('RFC',rfc_clf), ('GBC',gbc_clf)], voting='soft')\n",
    "\n",
    "# VotingClassifier 학습/예측/평가. \n",
    "vo_clf.fit(x_train, y_train)\n",
    "y_pred = vo_clf.predict(x_test)\n",
    "\n",
    "# SETP 4. 평가\n",
    "print('accuracy_score  : {0:.4f}'.format(accuracy_score(y_test, y_pred)))\n",
    "print('precision_score : {0:.4f}'.format(precision_score(y_test, y_pred, average='micro')))\n",
    "print('recall_score    : {0:.4f}'.format(recall_score(y_test, y_pred, average='micro')))\n",
    "print('f1_score        : {0:.4f}'.format(f1_score(y_test, y_pred, average='micro')))"
   ]
  },
  {
   "cell_type": "markdown",
   "metadata": {},
   "source": [
    "#### 결론\n",
    "**RandomForestClassifier** \n",
    "- accuracy_score  : 0.8715\n",
    "- precision_score : 0.8715\n",
    "- recall_score    : 0.8715\n",
    "- f1_score        : 0.8715\n"
   ]
  },
  {
   "cell_type": "code",
   "execution_count": null,
   "metadata": {},
   "outputs": [],
   "source": []
  }
 ],
 "metadata": {
  "kernelspec": {
   "display_name": "my_venv",
   "language": "python",
   "name": "python3"
  },
  "language_info": {
   "codemirror_mode": {
    "name": "ipython",
    "version": 3
   },
   "file_extension": ".py",
   "mimetype": "text/x-python",
   "name": "python",
   "nbconvert_exporter": "python",
   "pygments_lexer": "ipython3",
   "version": "3.9.18"
  }
 },
 "nbformat": 4,
 "nbformat_minor": 2
}
