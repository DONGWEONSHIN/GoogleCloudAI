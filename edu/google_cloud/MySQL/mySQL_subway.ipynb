{
 "cells": [
  {
   "cell_type": "code",
   "execution_count": null,
   "metadata": {},
   "outputs": [],
   "source": [
    "# !pip install chardet"
   ]
  },
  {
   "cell_type": "code",
   "execution_count": 81,
   "metadata": {},
   "outputs": [],
   "source": [
    "import pymysql\n",
    "import pandas as pd\n",
    "import chardet\n",
    "import os"
   ]
  },
  {
   "cell_type": "code",
   "execution_count": 82,
   "metadata": {},
   "outputs": [
    {
     "data": {
      "text/html": [
       "<div>\n",
       "<style scoped>\n",
       "    .dataframe tbody tr th:only-of-type {\n",
       "        vertical-align: middle;\n",
       "    }\n",
       "\n",
       "    .dataframe tbody tr th {\n",
       "        vertical-align: top;\n",
       "    }\n",
       "\n",
       "    .dataframe thead th {\n",
       "        text-align: right;\n",
       "    }\n",
       "</style>\n",
       "<table border=\"1\" class=\"dataframe\">\n",
       "  <thead>\n",
       "    <tr style=\"text-align: right;\">\n",
       "      <th></th>\n",
       "      <th>사용일자</th>\n",
       "      <th>노선명</th>\n",
       "      <th>역명</th>\n",
       "      <th>승차총승객수</th>\n",
       "      <th>하차총승객수</th>\n",
       "      <th>등록일자</th>\n",
       "    </tr>\n",
       "  </thead>\n",
       "  <tbody>\n",
       "    <tr>\n",
       "      <th>0</th>\n",
       "      <td>20231101</td>\n",
       "      <td>8호선</td>\n",
       "      <td>단대오거리</td>\n",
       "      <td>13482</td>\n",
       "      <td>13072</td>\n",
       "      <td>20231104</td>\n",
       "    </tr>\n",
       "    <tr>\n",
       "      <th>1</th>\n",
       "      <td>20231101</td>\n",
       "      <td>중앙선</td>\n",
       "      <td>원덕</td>\n",
       "      <td>372</td>\n",
       "      <td>362</td>\n",
       "      <td>20231104</td>\n",
       "    </tr>\n",
       "    <tr>\n",
       "      <th>2</th>\n",
       "      <td>20231101</td>\n",
       "      <td>중앙선</td>\n",
       "      <td>용문</td>\n",
       "      <td>2194</td>\n",
       "      <td>2097</td>\n",
       "      <td>20231104</td>\n",
       "    </tr>\n",
       "    <tr>\n",
       "      <th>3</th>\n",
       "      <td>20231101</td>\n",
       "      <td>중앙선</td>\n",
       "      <td>지평</td>\n",
       "      <td>72</td>\n",
       "      <td>71</td>\n",
       "      <td>20231104</td>\n",
       "    </tr>\n",
       "    <tr>\n",
       "      <th>4</th>\n",
       "      <td>20231101</td>\n",
       "      <td>우이신설선</td>\n",
       "      <td>4.19민주묘지</td>\n",
       "      <td>4515</td>\n",
       "      <td>4447</td>\n",
       "      <td>20231104</td>\n",
       "    </tr>\n",
       "  </tbody>\n",
       "</table>\n",
       "</div>"
      ],
      "text/plain": [
       "       사용일자    노선명        역명  승차총승객수  하차총승객수      등록일자\n",
       "0  20231101    8호선     단대오거리   13482   13072  20231104\n",
       "1  20231101    중앙선        원덕     372     362  20231104\n",
       "2  20231101    중앙선        용문    2194    2097  20231104\n",
       "3  20231101    중앙선        지평      72      71  20231104\n",
       "4  20231101  우이신설선  4.19민주묘지    4515    4447  20231104"
      ]
     },
     "execution_count": 82,
     "metadata": {},
     "output_type": "execute_result"
    }
   ],
   "source": [
    "fileName= 'csv_datas/CARD_SUBWAY_MONTH_202311.csv'\n",
    "df = pd.read_csv(fileName, index_col=False)\n",
    "df.head()"
   ]
  },
  {
   "cell_type": "code",
   "execution_count": 83,
   "metadata": {},
   "outputs": [
    {
     "name": "stdout",
     "output_type": "stream",
     "text": [
      "<class 'pandas.core.frame.DataFrame'>\n",
      "RangeIndex: 18313 entries, 0 to 18312\n",
      "Data columns (total 6 columns):\n",
      " #   Column  Non-Null Count  Dtype \n",
      "---  ------  --------------  ----- \n",
      " 0   사용일자    18313 non-null  int64 \n",
      " 1   노선명     18313 non-null  object\n",
      " 2   역명      18313 non-null  object\n",
      " 3   승차총승객수  18313 non-null  int64 \n",
      " 4   하차총승객수  18313 non-null  int64 \n",
      " 5   등록일자    18313 non-null  int64 \n",
      "dtypes: int64(4), object(2)\n",
      "memory usage: 858.5+ KB\n"
     ]
    }
   ],
   "source": [
    "df.info()"
   ]
  },
  {
   "cell_type": "code",
   "execution_count": 84,
   "metadata": {},
   "outputs": [
    {
     "data": {
      "text/plain": [
       "(18313, 6)"
      ]
     },
     "execution_count": 84,
     "metadata": {},
     "output_type": "execute_result"
    }
   ],
   "source": [
    "df.shape"
   ]
  },
  {
   "cell_type": "code",
   "execution_count": 85,
   "metadata": {},
   "outputs": [],
   "source": [
    "def createDB(cur, conn):\n",
    "    # 데이터베이스에 테이블을 생성\n",
    "    scriptStr = \"CREATE TABLE subwayTable(date int, route varchar(30), station varchar(50), boarding int, alighting int, regDate int)\"\n",
    "    cur.execute(scriptStr)\n",
    "    conn.commit()"
   ]
  },
  {
   "cell_type": "code",
   "execution_count": 86,
   "metadata": {},
   "outputs": [],
   "source": [
    "# insert시 df를 각 변수에서 가져 오느라 180만건 시행 했을 때 20분 이상 걸림\n",
    "\n",
    "def insertDB(cur, conn, df):\n",
    "    for i in range(df.shape[0]):\n",
    "        insertSql = (\n",
    "            \"INSERT INTO subwayTable VALUES(\"\n",
    "            + str(df.iloc[i][0])\n",
    "            + \",'\"\n",
    "            + str(df.iloc[i][1])\n",
    "            + \"','\"\n",
    "            + str(df.iloc[i][2])\n",
    "            + \"',\"\n",
    "            + str(df.iloc[i][3])\n",
    "            + \",\"\n",
    "            + str(df.iloc[i][4])\n",
    "            + \",\"\n",
    "            + str(df.iloc[i][5])\n",
    "            + \")\"\n",
    "        )\n",
    "        cur.execute(insertSql)\n",
    "    conn.commit()"
   ]
  },
  {
   "cell_type": "code",
   "execution_count": 87,
   "metadata": {},
   "outputs": [],
   "source": [
    "# insert시 df를 최소한으로 핸들링 해서, 위와 동일한 환경에서 약 3분 미만으로 실행 완료 됨\n",
    "\n",
    "def insertDB2(cur, conn, df):\n",
    "    print(df.shape)\n",
    "    for i in range(df.shape[0]):\n",
    "        rowData = df.iloc[i]\n",
    "        data0 = rowData['사용일자']\n",
    "        data1 = rowData['노선명']\n",
    "        data2 = rowData['역명']\n",
    "        data3 = rowData['승차총승객수']\n",
    "        data4 = rowData['하차총승객수']\n",
    "        data5 = rowData['등록일자']\n",
    "        insertSql = (\n",
    "            f\"INSERT INTO subwayTable VALUES( {data0}, '{data1}', '{data2}', {data3}, {data4}, {data5} )\"\n",
    "        )\n",
    "        cur.execute(insertSql)\n",
    "    conn.commit()"
   ]
  },
  {
   "cell_type": "code",
   "execution_count": 88,
   "metadata": {},
   "outputs": [],
   "source": [
    "def readDB(cur, conn):\n",
    "    cur.execute(\"SELECT * FROM subway_DB.subwayTable LIMIT 10\")\n",
    "    print(\"사용일자               노선명                   역명                승차총승객수            하차총승객수           등록일자  \")\n",
    "    print(\"-----------------------------------------------------------------------------------------------------------------------\")\n",
    "\n",
    "    while True:\n",
    "        row = cur.fetchone()\n",
    "        if row == None:\n",
    "            break\n",
    "        # print(row)\n",
    "        data1 = row[0]\n",
    "        data2 = row[1]\n",
    "        data3 = row[2]\n",
    "        data4 = row[3]\n",
    "        data5 = row[4]\n",
    "        data6 = row[5]\n",
    "        print(\n",
    "            \"%5s %15s %20s %20s %20s %20s\" % (data1, data2, data3, data4, data5, data6)\n",
    "        )\n",
    "    \n",
    "    conn.commit()"
   ]
  },
  {
   "cell_type": "code",
   "execution_count": 89,
   "metadata": {},
   "outputs": [],
   "source": [
    "def checkFileEncoding(file_path):\n",
    "    rawdata = open(file_path, \"rb\").readline()\n",
    "    result = chardet.detect(rawdata)\n",
    "    charenc = result[\"encoding\"]\n",
    "    charenc\n",
    "    print(\"file_path : \", file_path)\n",
    "    print(\"charenc : \", charenc)\n",
    "\n",
    "def replace_in_file(file_path, old_str, new_str):\n",
    "    rawdata = open(file_path, \"rb\").readline()\n",
    "    result = chardet.detect(rawdata)\n",
    "    charenc = result[\"encoding\"]\n",
    "    charenc\n",
    "\n",
    "    fr = \"\"\n",
    "    if charenc != \"EUC-KR\":\n",
    "        # 파일 읽어들이기\n",
    "        fr = open(file_path, \"r\", encoding=\"UTF-8\")\n",
    "    else:\n",
    "        fr = open(file_path, \"r\", encoding=\"EUC-KR\")\n",
    "\n",
    "    lines = fr.readlines()\n",
    "    fr.close()\n",
    "\n",
    "    # old_str -> new_str 치환\n",
    "    fw = open(file_path, \"w\", encoding=\"UTF-8\")\n",
    "    for line in lines:\n",
    "        fw.write(line.replace(old_str, new_str))\n",
    "    fw.close()\n",
    "\n",
    "\n",
    "# 호출: file1.txt 파일에서 \"\" 없애기\n",
    "# replace_in_file(\"data/CARD_SUBWAY_MONTH_2020.csv\", '\"\"', \"\")"
   ]
  },
  {
   "cell_type": "code",
   "execution_count": 90,
   "metadata": {},
   "outputs": [],
   "source": [
    "# Step 1. DB 연결\n",
    "conn = pymysql.connect(\n",
    "    host=\"127.0.0.1\", user=\"root\", password=\"dongw2on\", db=\"subway_DB\", charset=\"utf8\"\n",
    ")\n",
    "\n",
    "# Step 2. 커서 생성\n",
    "cur = conn.cursor()"
   ]
  },
  {
   "cell_type": "code",
   "execution_count": 91,
   "metadata": {},
   "outputs": [],
   "source": [
    "# Step 3. 데이터베이스에서 생성하기\n",
    "createDB(cur, conn)"
   ]
  },
  {
   "cell_type": "code",
   "execution_count": 92,
   "metadata": {},
   "outputs": [],
   "source": [
    "# Step 4. 데이터베이스에 입력하기\n",
    "# insertDB(cur, conn, df)"
   ]
  },
  {
   "cell_type": "code",
   "execution_count": 93,
   "metadata": {},
   "outputs": [],
   "source": [
    "# Step 5. 데이터베이스 읽기\n",
    "# readDB(cur, conn)"
   ]
  },
  {
   "cell_type": "code",
   "execution_count": 94,
   "metadata": {},
   "outputs": [],
   "source": [
    "datas = os.listdir('csv_datas')"
   ]
  },
  {
   "cell_type": "code",
   "execution_count": 95,
   "metadata": {},
   "outputs": [
    {
     "data": {
      "text/plain": [
       "['CARD_SUBWAY_MONTH_202309.csv',\n",
       " 'CARD_SUBWAY_MONTH_202308.csv',\n",
       " 'CARD_SUBWAY_MONTH_2016.csv',\n",
       " 'CARD_SUBWAY_MONTH_2017.csv',\n",
       " 'CARD_SUBWAY_MONTH_2015.csv',\n",
       " 'CARD_SUBWAY_MONTH_2022.csv',\n",
       " 'CARD_SUBWAY_MONTH_2020.csv',\n",
       " 'CARD_SUBWAY_MONTH_2021.csv',\n",
       " 'CARD_SUBWAY_MONTH_2019.csv',\n",
       " 'CARD_SUBWAY_MONTH_2018.csv',\n",
       " 'CARD_SUBWAY_MONTH_202306.csv',\n",
       " 'CARD_SUBWAY_MONTH_202307.csv',\n",
       " 'CARD_SUBWAY_MONTH_202311.csv',\n",
       " 'CARD_SUBWAY_MONTH_202305.csv',\n",
       " 'CARD_SUBWAY_MONTH_202304.csv',\n",
       " 'CARD_SUBWAY_MONTH_202310.csv',\n",
       " 'CARD_SUBWAY_MONTH_202301.csv',\n",
       " 'CARD_SUBWAY_MONTH_202303.csv',\n",
       " 'CARD_SUBWAY_MONTH_202302.csv']"
      ]
     },
     "execution_count": 95,
     "metadata": {},
     "output_type": "execute_result"
    }
   ],
   "source": [
    "datas"
   ]
  },
  {
   "cell_type": "code",
   "execution_count": 96,
   "metadata": {},
   "outputs": [
    {
     "name": "stdout",
     "output_type": "stream",
     "text": [
      "/Users/dongweonshin/my_ws/GoogleCloudAI/edu/google_cloud/MySQL\n"
     ]
    }
   ],
   "source": [
    "!pwd"
   ]
  },
  {
   "cell_type": "code",
   "execution_count": 24,
   "metadata": {},
   "outputs": [
    {
     "name": "stdout",
     "output_type": "stream",
     "text": [
      "fileName :  CARD_SUBWAY_MONTH_202309.csv\n",
      "fileName :  CARD_SUBWAY_MONTH_202308.csv\n",
      "fileName :  CARD_SUBWAY_MONTH_2016.csv\n",
      "fileName :  CARD_SUBWAY_MONTH_2017.csv\n",
      "fileName :  CARD_SUBWAY_MONTH_2015.csv\n",
      "fileName :  CARD_SUBWAY_MONTH_2022.csv\n",
      "fileName :  CARD_SUBWAY_MONTH_2020.csv\n",
      "fileName :  CARD_SUBWAY_MONTH_2021.csv\n",
      "fileName :  CARD_SUBWAY_MONTH_2019.csv\n",
      "fileName :  CARD_SUBWAY_MONTH_2018.csv\n",
      "fileName :  CARD_SUBWAY_MONTH_202306.csv\n",
      "fileName :  CARD_SUBWAY_MONTH_202307.csv\n",
      "fileName :  CARD_SUBWAY_MONTH_202311.csv\n",
      "fileName :  CARD_SUBWAY_MONTH_202305.csv\n",
      "fileName :  CARD_SUBWAY_MONTH_202304.csv\n",
      "fileName :  CARD_SUBWAY_MONTH_202310.csv\n",
      "fileName :  CARD_SUBWAY_MONTH_202301.csv\n",
      "fileName :  CARD_SUBWAY_MONTH_202303.csv\n",
      "fileName :  CARD_SUBWAY_MONTH_202302.csv\n"
     ]
    }
   ],
   "source": [
    "# 반복해서 파일 읽어서 입력하기\n",
    "for data in datas:\n",
    "    print(\"fileName : \", data)\n",
    "    replace_in_file('./csv_datas/'+data, ',\"\"', \"\")\n",
    "    # replace_in_file('./csv_datas/'+data, '\",\\n', '\"\\n')\n",
    "    # checkFileEncoding('./csv_datas/'+data)"
   ]
  },
  {
   "cell_type": "code",
   "execution_count": 97,
   "metadata": {},
   "outputs": [
    {
     "name": "stdout",
     "output_type": "stream",
     "text": [
      "fileName :  CARD_SUBWAY_MONTH_202309.csv\n",
      "(18302, 6)\n",
      "fileName :  CARD_SUBWAY_MONTH_202308.csv\n",
      "(18913, 6)\n",
      "fileName :  CARD_SUBWAY_MONTH_2016.csv\n",
      "(203435, 6)\n",
      "fileName :  CARD_SUBWAY_MONTH_2017.csv\n",
      "(208257, 6)\n",
      "fileName :  CARD_SUBWAY_MONTH_2015.csv\n",
      "(199380, 6)\n",
      "fileName :  CARD_SUBWAY_MONTH_2022.csv\n",
      "(219745, 6)\n",
      "fileName :  CARD_SUBWAY_MONTH_2020.csv\n",
      "(217055, 6)\n",
      "fileName :  CARD_SUBWAY_MONTH_2021.csv\n",
      "(219279, 6)\n",
      "fileName :  CARD_SUBWAY_MONTH_2019.csv\n",
      "(215769, 6)\n",
      "fileName :  CARD_SUBWAY_MONTH_2018.csv\n",
      "(212749, 6)\n",
      "fileName :  CARD_SUBWAY_MONTH_202306.csv\n",
      "(18214, 6)\n",
      "fileName :  CARD_SUBWAY_MONTH_202307.csv\n",
      "(18906, 6)\n",
      "fileName :  CARD_SUBWAY_MONTH_202311.csv\n",
      "(18313, 6)\n",
      "fileName :  CARD_SUBWAY_MONTH_202305.csv\n",
      "(18830, 6)\n",
      "fileName :  CARD_SUBWAY_MONTH_202304.csv\n",
      "(18211, 6)\n",
      "fileName :  CARD_SUBWAY_MONTH_202310.csv\n",
      "(18911, 6)\n",
      "fileName :  CARD_SUBWAY_MONTH_202301.csv\n",
      "(18797, 6)\n",
      "fileName :  CARD_SUBWAY_MONTH_202303.csv\n",
      "(18815, 6)\n",
      "fileName :  CARD_SUBWAY_MONTH_202302.csv\n",
      "(16994, 6)\n"
     ]
    }
   ],
   "source": [
    "# 반복해서 파일 읽어서 입력하기\n",
    "for data in datas:\n",
    "    # df2 = pd.read_csv('./csv_datas/'+data, index_col=False)\n",
    "    # rawdata = open('./csv_datas/'+data, 'rb').readline()\n",
    "    # result = chardet.detect(rawdata)\n",
    "    # charenc = result['encoding']\n",
    "    # charenc\n",
    "    # print(\"encoding : \", charenc)\n",
    "    print(\"fileName : \", data)\n",
    "    \n",
    "    # if charenc != \"EUC-KR\":\n",
    "    #     df = pd.read_csv('./csv_datas/'+data, index_col=False)\n",
    "    # else:\n",
    "    #     df = pd.read_csv('./csv_datas/'+data, index_col=False, encoding='euc-kr')\n",
    "        \n",
    "    df = pd.read_csv('./csv_datas/'+data, index_col=False)\n",
    "    insertDB2(cur, conn, df)"
   ]
  },
  {
   "cell_type": "code",
   "execution_count": 74,
   "metadata": {},
   "outputs": [
    {
     "name": "stdout",
     "output_type": "stream",
     "text": [
      "    0\n"
     ]
    }
   ],
   "source": [
    "\n",
    "cur.execute(\"SELECT count(*) AS CNT FROM subway_DB.subwayTable\")\n",
    "while(True):\n",
    "    row = cur.fetchone()\n",
    "    if row==None:\n",
    "        break\n",
    "    # print(row)\n",
    "    data1 = row[0]\n",
    "    print(\"%5s\" %(data1))\n",
    "conn.commit()"
   ]
  },
  {
   "cell_type": "code",
   "execution_count": 56,
   "metadata": {},
   "outputs": [],
   "source": [
    "# Step 6. 연결 끊기\n",
    "conn.close()"
   ]
  },
  {
   "cell_type": "code",
   "execution_count": null,
   "metadata": {},
   "outputs": [],
   "source": []
  }
 ],
 "metadata": {
  "kernelspec": {
   "display_name": "mysql_venv",
   "language": "python",
   "name": "python3"
  },
  "language_info": {
   "codemirror_mode": {
    "name": "ipython",
    "version": 3
   },
   "file_extension": ".py",
   "mimetype": "text/x-python",
   "name": "python",
   "nbconvert_exporter": "python",
   "pygments_lexer": "ipython3",
   "version": "3.9.18"
  }
 },
 "nbformat": 4,
 "nbformat_minor": 2
}
