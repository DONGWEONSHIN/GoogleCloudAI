{
 "cells": [
  {
   "cell_type": "code",
   "execution_count": null,
   "metadata": {},
   "outputs": [],
   "source": [
    "! pip install -q --upgrade google-generativeai langchain-google-genai python-dotenv"
   ]
  },
  {
   "cell_type": "code",
   "execution_count": 5,
   "metadata": {},
   "outputs": [
    {
     "data": {
      "text/plain": [
       "True"
      ]
     },
     "execution_count": 5,
     "metadata": {},
     "output_type": "execute_result"
    }
   ],
   "source": [
    "from dotenv import load_dotenv\n",
    "load_dotenv()"
   ]
  },
  {
   "cell_type": "code",
   "execution_count": 6,
   "metadata": {},
   "outputs": [],
   "source": [
    "from IPython.display import display\n",
    "from IPython.display import Markdown\n",
    "import textwrap\n",
    "\n",
    "\n",
    "def to_markdown(text):\n",
    "  text = text.replace('•', '  *')\n",
    "  return Markdown(textwrap.indent(text, '> ', predicate=lambda _: True))"
   ]
  },
  {
   "cell_type": "code",
   "execution_count": null,
   "metadata": {},
   "outputs": [],
   "source": [
    "! pip install ipywidgets"
   ]
  },
  {
   "cell_type": "code",
   "execution_count": 7,
   "metadata": {},
   "outputs": [],
   "source": [
    "import google.generativeai as genai"
   ]
  },
  {
   "cell_type": "code",
   "execution_count": 8,
   "metadata": {},
   "outputs": [],
   "source": [
    "import os\n",
    "genai.configure(api_key=os.environ.get(\"GOOGLE_API_KEY\"))"
   ]
  },
  {
   "cell_type": "code",
   "execution_count": 9,
   "metadata": {},
   "outputs": [],
   "source": [
    "model = genai.GenerativeModel(model_name = \"gemini-pro\")"
   ]
  },
  {
   "cell_type": "code",
   "execution_count": 10,
   "metadata": {},
   "outputs": [],
   "source": [
    "prompt_parts = [\n",
    "    \"Write a Python function and explain it to me\",\n",
    "]\n",
    "\n",
    "response = model.generate_content(prompt_parts)"
   ]
  },
  {
   "cell_type": "code",
   "execution_count": 11,
   "metadata": {},
   "outputs": [
    {
     "name": "stdout",
     "output_type": "stream",
     "text": [
      "```python\n",
      "def greet(name):\n",
      "  \"\"\"\n",
      "  Greets the person with the given name.\n",
      "\n",
      "  Args:\n",
      "    name: The name of the person to greet.\n",
      "\n",
      "  Returns:\n",
      "    A string greeting the person.\n",
      "  \"\"\"\n",
      "\n",
      "  # Use an f-string to format the greeting.\n",
      "  greeting = f\"Hello, {name}!\"\n",
      "\n",
      "  # Return the formatted greeting.\n",
      "  return greeting\n",
      "```\n",
      "\n",
      "This Python function defines a function called `greet` that takes a single argument, `name`, which is expected to be a string containing the name of a person. The function is designed to greet the person by returning a string that includes the greeting \"Hello\" followed by the person's name.\n",
      "\n",
      "Here's how this function works:\n",
      "\n",
      "1. The function definition begins with the `def` keyword, followed by the function name `greet` and a pair of parentheses. The parentheses indicate that this function takes arguments.\n",
      "\n",
      "2. Inside the parentheses, we have a single parameter, `name`, which is typed as a string using the annotation `: str`. This specifies that the `name` parameter should be a string.\n",
      "\n",
      "3. The function body is indented using four spaces. This indentation is essential in Python to define the scope of the function.\n",
      "\n",
      "4. Inside the function body, we use an f-string (introduced with the `f` prefix) to format the greeting. F-strings are a convenient way to embed expressions inside strings.\n",
      "\n",
      "5. The f-string contains the text \"Hello, \" followed by the `name` variable, which represents the person's name. The `{}` braces are used to embed the value of `name` into the string.\n",
      "\n",
      "6. The formatted greeting is stored in a variable called `greeting`.\n",
      "\n",
      "7. Finally, the function returns the `greeting` variable. This means that when you call this function with a name, it will return a string greeting the person by name.\n",
      "\n",
      "In summary, this `greet` function is a simple example of how to define and use a function in Python. It takes a person's name as input and returns a greeting message combining \"Hello\" with the person's name.\n"
     ]
    }
   ],
   "source": [
    "print(response.text)"
   ]
  },
  {
   "cell_type": "code",
   "execution_count": 12,
   "metadata": {},
   "outputs": [],
   "source": [
    "from langchain_google_genai import ChatGoogleGenerativeAI"
   ]
  },
  {
   "cell_type": "code",
   "execution_count": 13,
   "metadata": {},
   "outputs": [
    {
     "data": {
      "text/markdown": [
       "> 1. **Regular Exercise**: Aim for at least 150 minutes of moderate-intensity aerobic activity or 75 minutes of vigorous-intensity aerobic activity each week. This could include activities like brisk walking, running, swimming, cycling, or dancing.\n",
       "> \n",
       "> \n",
       "> 2. **Balanced Diet**: Eat a balanced diet that includes plenty of fruits, vegetables, lean protein, whole grains, and healthy fats. Avoid processed foods, sugary drinks, and excessive amounts of saturated and trans fats.\n",
       "> \n",
       "> \n",
       "> 3. **Strength Training**: Incorporate strength training exercises at least twice a week. This helps build muscle mass, which can boost metabolism and improve overall strength and mobility.\n",
       "> \n",
       "> \n",
       "> 4. **Active Lifestyle**: Try to stay active throughout the day. Take the stairs instead of the elevator, walk or bike to errands, and engage in hobbies that involve physical activity.\n",
       "> \n",
       "> \n",
       "> 5. **Stay Hydrated**: Drink plenty of water throughout the day to stay hydrated and maintain optimal body function.\n",
       "> \n",
       "> \n",
       "> 6. **Mindful Eating**: Pay attention to your hunger and fullness cues to avoid overeating. Eat slowly and savor your meals.\n",
       "> \n",
       "> \n",
       "> 7. **Limit Alcohol and Smoking**: Minimize alcohol consumption and quit smoking. These habits can have negative impacts on your overall health and fitness.\n",
       "> \n",
       "> \n",
       "> 8. **Adequate Sleep**: Aim for 7-8 hours of quality sleep each night. Sleep is essential for physical and mental recovery and helps regulate hormones that influence appetite and metabolism.\n",
       "> \n",
       "> \n",
       "> 9. **Stress Management**: Practicing stress management techniques like meditation, deep breathing, or yoga can help reduce stress levels and improve overall well-being, which can positively impact your fitness goals.\n",
       "> \n",
       "> \n",
       "> 10. **Consistency**: Consistency is key. Make fitness a regular part of your routine to reap the long-term benefits of exercise and healthy living."
      ],
      "text/plain": [
       "<IPython.core.display.Markdown object>"
      ]
     },
     "execution_count": 13,
     "metadata": {},
     "output_type": "execute_result"
    }
   ],
   "source": [
    "llm = ChatGoogleGenerativeAI(model=\"gemini-pro\")\n",
    "result = llm.invoke(\"What is the best practice to keep fit?\")\n",
    "to_markdown(result.content)"
   ]
  },
  {
   "cell_type": "code",
   "execution_count": null,
   "metadata": {},
   "outputs": [],
   "source": []
  }
 ],
 "metadata": {
  "kernelspec": {
   "display_name": "chatbot_venv",
   "language": "python",
   "name": "python3"
  },
  "language_info": {
   "codemirror_mode": {
    "name": "ipython",
    "version": 3
   },
   "file_extension": ".py",
   "mimetype": "text/x-python",
   "name": "python",
   "nbconvert_exporter": "python",
   "pygments_lexer": "ipython3",
   "version": "3.9.18"
  }
 },
 "nbformat": 4,
 "nbformat_minor": 2
}
