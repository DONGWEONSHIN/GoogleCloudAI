{
 "cells": [
  {
   "attachments": {
    "image.png": {
     "image/png": "[encoded data removed]"
    }
   },
   "cell_type": "markdown",
   "metadata": {},
   "source": [
    "![image.png](attachment:image.png)"
   ]
  },
  {
   "cell_type": "markdown",
   "metadata": {},
   "source": [
    "### Kaggle 데이터 파일 다운로드 받기\n",
    "1. 위 그림처럼 홈디렉토리에서 .kaggle 파일 생성\n",
    "2. .kaggle 폴더에 kaggle json 복사\n",
    "3. 이후 pip install"
   ]
  },
  {
   "cell_type": "code",
   "execution_count": 1,
   "metadata": {},
   "outputs": [
    {
     "name": "stdout",
     "output_type": "stream",
     "text": [
      "Collecting kaggle\n",
      "  Downloading kaggle-1.5.16.tar.gz (83 kB)\n",
      "     ---------------------------------------- 0.0/83.6 kB ? eta -:--:--\n",
      "     -------------- ------------------------- 30.7/83.6 kB 1.3 MB/s eta 0:00:01\n",
      "     ---------------------------------------- 83.6/83.6 kB 1.6 MB/s eta 0:00:00\n",
      "  Preparing metadata (setup.py): started\n",
      "  Preparing metadata (setup.py): finished with status 'done'\n",
      "Requirement already satisfied: six>=1.10 in c:\\users\\sba\\anaconda3\\envs\\tf_venv\\lib\\site-packages (from kaggle) (1.16.0)\n",
      "Requirement already satisfied: certifi in c:\\users\\sba\\anaconda3\\envs\\tf_venv\\lib\\site-packages (from kaggle) (2023.7.22)\n",
      "Requirement already satisfied: python-dateutil in c:\\users\\sba\\anaconda3\\envs\\tf_venv\\lib\\site-packages (from kaggle) (2.8.2)\n",
      "Requirement already satisfied: requests in c:\\users\\sba\\anaconda3\\envs\\tf_venv\\lib\\site-packages (from kaggle) (2.31.0)\n",
      "Requirement already satisfied: tqdm in c:\\users\\sba\\anaconda3\\envs\\tf_venv\\lib\\site-packages (from kaggle) (4.66.1)\n",
      "Collecting python-slugify (from kaggle)\n",
      "  Downloading python_slugify-8.0.1-py2.py3-none-any.whl (9.7 kB)\n",
      "Requirement already satisfied: urllib3 in c:\\users\\sba\\anaconda3\\envs\\tf_venv\\lib\\site-packages (from kaggle) (1.26.18)\n",
      "Requirement already satisfied: bleach in c:\\users\\sba\\anaconda3\\envs\\tf_venv\\lib\\site-packages (from kaggle) (4.1.0)\n",
      "Requirement already satisfied: packaging in c:\\users\\sba\\anaconda3\\envs\\tf_venv\\lib\\site-packages (from bleach->kaggle) (23.1)\n",
      "Requirement already satisfied: webencodings in c:\\users\\sba\\anaconda3\\envs\\tf_venv\\lib\\site-packages (from bleach->kaggle) (0.5.1)\n",
      "Collecting text-unidecode>=1.3 (from python-slugify->kaggle)\n",
      "  Downloading text_unidecode-1.3-py2.py3-none-any.whl (78 kB)\n",
      "     ---------------------------------------- 0.0/78.2 kB ? eta -:--:--\n",
      "     ---------------------------------------- 78.2/78.2 kB ? eta 0:00:00\n",
      "Requirement already satisfied: charset-normalizer<4,>=2 in c:\\users\\sba\\anaconda3\\envs\\tf_venv\\lib\\site-packages (from requests->kaggle) (2.0.4)\n",
      "Requirement already satisfied: idna<4,>=2.5 in c:\\users\\sba\\anaconda3\\envs\\tf_venv\\lib\\site-packages (from requests->kaggle) (3.4)\n",
      "Requirement already satisfied: colorama in c:\\users\\sba\\anaconda3\\envs\\tf_venv\\lib\\site-packages (from tqdm->kaggle) (0.4.6)\n",
      "Building wheels for collected packages: kaggle\n",
      "  Building wheel for kaggle (setup.py): started\n",
      "  Building wheel for kaggle (setup.py): finished with status 'done'\n",
      "  Created wheel for kaggle: filename=kaggle-1.5.16-py3-none-any.whl size=110693 sha256=ddaa298df5b74be60548105aa978328d1f05aea8a15b63802997ea9d7811508e\n",
      "  Stored in directory: c:\\users\\sba\\appdata\\local\\pip\\cache\\wheels\\d2\\ed\\a5\\da3a0cfb13373d1ace41cafa4f2467d858c55c52473ba72799\n",
      "Successfully built kaggle\n",
      "Installing collected packages: text-unidecode, python-slugify, kaggle\n",
      "Successfully installed kaggle-1.5.16 python-slugify-8.0.1 text-unidecode-1.3\n"
     ]
    }
   ],
   "source": [
    "!pip install kaggle"
   ]
  },
  {
   "cell_type": "code",
   "execution_count": 6,
   "metadata": {},
   "outputs": [
    {
     "name": "stdout",
     "output_type": "stream",
     "text": [
      "Downloading intel-image-classification.zip to c:\\Users\\SBA\\my_ws\\GoogleCloudAI\\edu\\deep_learning\n",
      "\n"
     ]
    },
    {
     "name": "stderr",
     "output_type": "stream",
     "text": [
      "\n",
      "  0%|          | 0.00/346M [00:00<?, ?B/s]\n",
      "  0%|          | 1.00M/346M [00:00<01:20, 4.49MB/s]\n",
      "  1%|          | 3.00M/346M [00:00<00:37, 9.49MB/s]\n",
      "  3%|▎         | 9.00M/346M [00:00<00:13, 25.5MB/s]\n",
      "  4%|▍         | 13.0M/346M [00:00<00:12, 27.8MB/s]\n",
      "  5%|▍         | 17.0M/346M [00:00<00:10, 31.8MB/s]\n",
      "  6%|▌         | 21.0M/346M [00:01<00:15, 22.5MB/s]\n",
      "  8%|▊         | 27.0M/346M [00:01<00:11, 29.1MB/s]\n",
      "  9%|▉         | 31.0M/346M [00:01<00:11, 29.8MB/s]\n",
      " 10%|█         | 35.0M/346M [00:01<00:11, 29.2MB/s]\n",
      " 11%|█▏        | 39.0M/346M [00:01<00:12, 26.3MB/s]\n",
      " 13%|█▎        | 44.0M/346M [00:01<00:09, 31.7MB/s]\n",
      " 14%|█▍        | 48.0M/346M [00:01<00:11, 26.8MB/s]\n",
      " 15%|█▌        | 53.0M/346M [00:02<00:09, 31.1MB/s]\n",
      " 16%|█▋        | 57.0M/346M [00:02<00:11, 26.6MB/s]\n",
      " 18%|█▊        | 63.0M/346M [00:02<00:09, 30.9MB/s]\n",
      " 19%|█▉        | 67.0M/346M [00:02<00:10, 29.1MB/s]\n",
      " 21%|██        | 71.0M/346M [00:02<00:09, 31.7MB/s]\n",
      " 22%|██▏       | 75.0M/346M [00:02<00:08, 32.4MB/s]\n",
      " 23%|██▎       | 79.0M/346M [00:02<00:08, 33.8MB/s]\n",
      " 24%|██▍       | 83.0M/346M [00:03<00:09, 27.7MB/s]\n",
      " 26%|██▌       | 90.0M/346M [00:03<00:08, 31.0MB/s]\n",
      " 27%|██▋       | 94.0M/346M [00:03<00:08, 32.8MB/s]\n",
      " 28%|██▊       | 98.0M/346M [00:03<00:07, 34.0MB/s]\n",
      " 29%|██▉       | 102M/346M [00:03<00:08, 30.9MB/s] \n",
      " 31%|███       | 106M/346M [00:04<00:14, 17.5MB/s]\n",
      " 32%|███▏      | 111M/346M [00:04<00:11, 21.5MB/s]\n",
      " 33%|███▎      | 114M/346M [00:04<00:11, 21.4MB/s]\n",
      " 35%|███▍      | 120M/346M [00:04<00:08, 27.2MB/s]\n",
      " 36%|███▌      | 124M/346M [00:04<00:08, 28.3MB/s]\n",
      " 37%|███▋      | 129M/346M [00:04<00:07, 29.8MB/s]\n",
      " 38%|███▊      | 133M/346M [00:05<00:07, 29.6MB/s]\n",
      " 40%|███▉      | 137M/346M [00:05<00:07, 30.0MB/s]\n",
      " 41%|████      | 141M/346M [00:05<00:07, 27.6MB/s]\n",
      " 42%|████▏     | 146M/346M [00:05<00:07, 29.7MB/s]\n",
      " 43%|████▎     | 149M/346M [00:05<00:07, 27.1MB/s]\n",
      " 44%|████▍     | 152M/346M [00:05<00:07, 28.1MB/s]\n",
      " 45%|████▌     | 156M/346M [00:05<00:06, 29.0MB/s]\n",
      " 46%|████▌     | 159M/346M [00:06<00:07, 27.4MB/s]\n",
      " 47%|████▋     | 162M/346M [00:06<00:08, 23.7MB/s]\n",
      " 49%|████▊     | 168M/346M [00:06<00:06, 27.1MB/s]\n",
      " 50%|████▉     | 173M/346M [00:06<00:05, 31.7MB/s]\n",
      " 51%|█████     | 177M/346M [00:06<00:06, 26.1MB/s]\n",
      " 53%|█████▎    | 182M/346M [00:06<00:05, 31.3MB/s]\n",
      " 54%|█████▎    | 186M/346M [00:07<00:05, 28.3MB/s]\n",
      " 55%|█████▌    | 191M/346M [00:07<00:05, 27.6MB/s]\n",
      " 57%|█████▋    | 196M/346M [00:07<00:05, 31.5MB/s]\n",
      " 58%|█████▊    | 200M/346M [00:07<00:05, 29.6MB/s]\n",
      " 59%|█████▉    | 204M/346M [00:07<00:04, 32.2MB/s]\n",
      " 60%|██████    | 209M/346M [00:07<00:04, 31.9MB/s]\n",
      " 62%|██████▏   | 213M/346M [00:07<00:04, 32.9MB/s]\n",
      " 63%|██████▎   | 217M/346M [00:08<00:04, 33.7MB/s]\n",
      " 64%|██████▍   | 221M/346M [00:08<00:03, 33.0MB/s]\n",
      " 65%|██████▍   | 225M/346M [00:08<00:03, 32.5MB/s]\n",
      " 66%|██████▌   | 229M/346M [00:08<00:04, 30.0MB/s]\n",
      " 67%|██████▋   | 232M/346M [00:08<00:03, 30.3MB/s]\n",
      " 68%|██████▊   | 235M/346M [00:08<00:04, 27.3MB/s]\n",
      " 70%|██████▉   | 242M/346M [00:08<00:03, 28.7MB/s]\n",
      " 71%|███████▏  | 247M/346M [00:09<00:03, 29.8MB/s]\n",
      " 72%|███████▏  | 250M/346M [00:09<00:04, 24.2MB/s]\n",
      " 73%|███████▎  | 254M/346M [00:09<00:04, 23.3MB/s]\n",
      " 75%|███████▌  | 260M/346M [00:09<00:03, 28.9MB/s]\n",
      " 76%|███████▌  | 263M/346M [00:09<00:03, 25.1MB/s]\n",
      " 78%|███████▊  | 269M/346M [00:09<00:02, 30.6MB/s]\n",
      " 79%|███████▉  | 273M/346M [00:10<00:02, 31.8MB/s]\n",
      " 80%|███████▉  | 277M/346M [00:10<00:02, 27.0MB/s]\n",
      " 81%|████████▏ | 282M/346M [00:10<00:02, 26.1MB/s]\n",
      " 83%|████████▎ | 288M/346M [00:10<00:02, 22.9MB/s]\n",
      " 85%|████████▍ | 294M/346M [00:11<00:02, 27.0MB/s]\n",
      " 86%|████████▋ | 299M/346M [00:11<00:01, 31.0MB/s]\n",
      " 87%|████████▋ | 303M/346M [00:11<00:01, 28.6MB/s]\n",
      " 89%|████████▉ | 308M/346M [00:11<00:01, 28.8MB/s]\n",
      " 91%|█████████ | 315M/346M [00:11<00:00, 34.2MB/s]\n",
      " 92%|█████████▏| 319M/346M [00:11<00:00, 33.6MB/s]\n",
      " 93%|█████████▎| 323M/346M [00:12<00:00, 26.4MB/s]\n",
      " 94%|█████████▍| 327M/346M [00:12<00:00, 28.7MB/s]\n",
      " 96%|█████████▌| 331M/346M [00:12<00:00, 29.5MB/s]\n",
      " 97%|█████████▋| 335M/346M [00:12<00:00, 31.1MB/s]\n",
      " 98%|█████████▊| 339M/346M [00:12<00:00, 32.3MB/s]\n",
      " 99%|█████████▉| 343M/346M [00:12<00:00, 32.1MB/s]\n",
      "100%|██████████| 346M/346M [00:12<00:00, 31.4MB/s]\n",
      "100%|██████████| 346M/346M [00:12<00:00, 28.5MB/s]\n"
     ]
    }
   ],
   "source": [
    "!kaggle datasets download -d puneet6060/intel-image-classification"
   ]
  },
  {
   "cell_type": "code",
   "execution_count": null,
   "metadata": {},
   "outputs": [],
   "source": []
  }
 ],
 "metadata": {
  "kernelspec": {
   "display_name": "tf_venv",
   "language": "python",
   "name": "python3"
  },
  "language_info": {
   "codemirror_mode": {
    "name": "ipython",
    "version": 3
   },
   "file_extension": ".py",
   "mimetype": "text/x-python",
   "name": "python",
   "nbconvert_exporter": "python",
   "pygments_lexer": "ipython3",
   "version": "3.9.18"
  }
 },
 "nbformat": 4,
 "nbformat_minor": 2
}
