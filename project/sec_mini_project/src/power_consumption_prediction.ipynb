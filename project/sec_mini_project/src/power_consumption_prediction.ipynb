{
 "cells": [
  {
   "cell_type": "code",
   "execution_count": 53,
   "metadata": {},
   "outputs": [],
   "source": [
    "# Python 3.9.18\n",
    "# Numpy : 1.26.0\n",
    "# Pandas : 2.1.1\n",
    "# Matplotlib : 3.7.2\n",
    "# Seaborn : 0.12.2\n",
    "# Scikit-learn : 1.3.0\n",
    "# Created: OCT. 25. 2023\n",
    "# Author: D.W. SHIN\n",
    "# 2023 전력사용량 예측 AI 경진대회\n",
    "# 알고리즘 | 정형 | 시계열 | 에너지 | SMAPE\n",
    "# [Baseline] Random Forest을 기본으로 사용함\n",
    "\n",
    "import random\n",
    "import pandas as pd\n",
    "import numpy as np\n",
    "import matplotlib.pyplot as plt\n",
    "import seaborn as sns\n",
    "import os\n",
    "import platform\n",
    "\n",
    "from sklearn.preprocessing import LabelEncoder\n",
    "from sklearn.preprocessing import StandardScaler, MinMaxScaler, RobustScaler\n",
    "from sklearn.preprocessing import PolynomialFeatures\n",
    "from sklearn.pipeline import make_pipeline\n",
    "from sklearn.model_selection import train_test_split\n",
    "\n",
    "from sklearn.linear_model import LinearRegression, SGDRegressor, ARDRegression, GammaRegressor, PoissonRegressor, TweedieRegressor, HuberRegressor, QuantileRegressor, RANSACRegressor, ridge_regression, TheilSenRegressor,PassiveAggressiveRegressor\n",
    "from sklearn.ensemble import RandomForestRegressor, BaggingRegressor, ExtraTreesRegressor, GradientBoostingRegressor, HistGradientBoostingRegressor, StackingRegressor, VotingRegressor, AdaBoostRegressor\n",
    "\n",
    "from sklearn.linear_model import Ridge\n",
    "from sklearn.linear_model import Lasso\n",
    "from sklearn.linear_model import ElasticNet\n",
    "\n",
    "from sklearn.model_selection import cross_val_score\n",
    "from sklearn.metrics import mean_absolute_error, mean_squared_error\n",
    "\n",
    "import warnings\n",
    "warnings.filterwarnings(action='ignore') "
   ]
  },
  {
   "cell_type": "code",
   "execution_count": 54,
   "metadata": {},
   "outputs": [],
   "source": [
    "sysOS = platform.system()\n",
    "\n",
    "if sysOS == 'Windows':\n",
    "    # Windows 일 경우\n",
    "    plt.rcParams['font.family'] ='Malgun Gothic'\n",
    "    plt.rcParams['axes.unicode_minus'] = False\n",
    "elif sysOS == 'Darwin':\n",
    "    # Mac일 경우\n",
    "    plt.rcParams['font.family'] ='AppleGothic'\n",
    "    plt.rcParams['axes.unicode_minus'] = False\n",
    "else:\n",
    "    print('Please check your Korean font!!')\n",
    "    !sudo apt-get install -y fonts-nanum\n",
    "    !sudo fc-cache -fv\n",
    "    !rm ~/.cache/matplotlib -rf\n",
    "    print('#' * 30)\n",
    "    print('#' * 30)\n",
    "    print('런타임을 다시 시작해 주세요~~~')\n",
    "    print('#' * 30)\n",
    "    print('#' * 30)"
   ]
  },
  {
   "cell_type": "markdown",
   "metadata": {},
   "source": [
    "## Fixed Random-Seed"
   ]
  },
  {
   "cell_type": "code",
   "execution_count": 55,
   "metadata": {},
   "outputs": [],
   "source": [
    "def seed_everything(seed):\n",
    "    random.seed(seed)\n",
    "    os.environ['PYTHONHASHSEED'] = str(seed)\n",
    "    np.random.seed(seed)\n",
    "\n",
    "seed_everything(42) # Seed 고정"
   ]
  },
  {
   "cell_type": "markdown",
   "metadata": {},
   "source": [
    "## Load Data"
   ]
  },
  {
   "cell_type": "code",
   "execution_count": 56,
   "metadata": {},
   "outputs": [],
   "source": [
    "train_df = pd.read_csv('../data/train.csv')\n",
    "test_df = pd.read_csv('../data/test.csv')\n",
    "building_df = pd.read_csv('../data/building_info.csv')"
   ]
  },
  {
   "cell_type": "code",
   "execution_count": 57,
   "metadata": {},
   "outputs": [
    {
     "name": "stdout",
     "output_type": "stream",
     "text": [
      "<class 'pandas.core.frame.DataFrame'>\n",
      "RangeIndex: 204000 entries, 0 to 203999\n",
      "Data columns (total 10 columns):\n",
      " #   Column         Non-Null Count   Dtype  \n",
      "---  ------         --------------   -----  \n",
      " 0   num_date_time  204000 non-null  object \n",
      " 1   건물번호           204000 non-null  int64  \n",
      " 2   일시             204000 non-null  object \n",
      " 3   기온(C)          204000 non-null  float64\n",
      " 4   강수량(mm)        43931 non-null   float64\n",
      " 5   풍속(m/s)        203981 non-null  float64\n",
      " 6   습도(%)          203991 non-null  float64\n",
      " 7   일조(hr)         128818 non-null  float64\n",
      " 8   일사(MJ/m2)      116087 non-null  float64\n",
      " 9   전력소비량(kWh)     204000 non-null  float64\n",
      "dtypes: float64(7), int64(1), object(2)\n",
      "memory usage: 15.6+ MB\n"
     ]
    }
   ],
   "source": [
    "train_df.info()"
   ]
  },
  {
   "cell_type": "code",
   "execution_count": 58,
   "metadata": {},
   "outputs": [
    {
     "data": {
      "text/html": [
       "<div>\n",
       "<style scoped>\n",
       "    .dataframe tbody tr th:only-of-type {\n",
       "        vertical-align: middle;\n",
       "    }\n",
       "\n",
       "    .dataframe tbody tr th {\n",
       "        vertical-align: top;\n",
       "    }\n",
       "\n",
       "    .dataframe thead th {\n",
       "        text-align: right;\n",
       "    }\n",
       "</style>\n",
       "<table border=\"1\" class=\"dataframe\">\n",
       "  <thead>\n",
       "    <tr style=\"text-align: right;\">\n",
       "      <th></th>\n",
       "      <th>num_date_time</th>\n",
       "      <th>건물번호</th>\n",
       "      <th>일시</th>\n",
       "      <th>기온(C)</th>\n",
       "      <th>강수량(mm)</th>\n",
       "      <th>풍속(m/s)</th>\n",
       "      <th>습도(%)</th>\n",
       "      <th>일조(hr)</th>\n",
       "      <th>일사(MJ/m2)</th>\n",
       "      <th>전력소비량(kWh)</th>\n",
       "    </tr>\n",
       "  </thead>\n",
       "  <tbody>\n",
       "    <tr>\n",
       "      <th>203995</th>\n",
       "      <td>100_20220824 19</td>\n",
       "      <td>100</td>\n",
       "      <td>20220824 19</td>\n",
       "      <td>23.1</td>\n",
       "      <td>NaN</td>\n",
       "      <td>0.9</td>\n",
       "      <td>86.0</td>\n",
       "      <td>0.5</td>\n",
       "      <td>NaN</td>\n",
       "      <td>881.04</td>\n",
       "    </tr>\n",
       "    <tr>\n",
       "      <th>203996</th>\n",
       "      <td>100_20220824 20</td>\n",
       "      <td>100</td>\n",
       "      <td>20220824 20</td>\n",
       "      <td>22.4</td>\n",
       "      <td>NaN</td>\n",
       "      <td>1.3</td>\n",
       "      <td>86.0</td>\n",
       "      <td>0.0</td>\n",
       "      <td>NaN</td>\n",
       "      <td>798.96</td>\n",
       "    </tr>\n",
       "    <tr>\n",
       "      <th>203997</th>\n",
       "      <td>100_20220824 21</td>\n",
       "      <td>100</td>\n",
       "      <td>20220824 21</td>\n",
       "      <td>21.3</td>\n",
       "      <td>NaN</td>\n",
       "      <td>1.0</td>\n",
       "      <td>92.0</td>\n",
       "      <td>NaN</td>\n",
       "      <td>NaN</td>\n",
       "      <td>825.12</td>\n",
       "    </tr>\n",
       "    <tr>\n",
       "      <th>203998</th>\n",
       "      <td>100_20220824 22</td>\n",
       "      <td>100</td>\n",
       "      <td>20220824 22</td>\n",
       "      <td>21.0</td>\n",
       "      <td>NaN</td>\n",
       "      <td>0.3</td>\n",
       "      <td>94.0</td>\n",
       "      <td>NaN</td>\n",
       "      <td>NaN</td>\n",
       "      <td>640.08</td>\n",
       "    </tr>\n",
       "    <tr>\n",
       "      <th>203999</th>\n",
       "      <td>100_20220824 23</td>\n",
       "      <td>100</td>\n",
       "      <td>20220824 23</td>\n",
       "      <td>20.7</td>\n",
       "      <td>NaN</td>\n",
       "      <td>0.1</td>\n",
       "      <td>95.0</td>\n",
       "      <td>NaN</td>\n",
       "      <td>NaN</td>\n",
       "      <td>540.24</td>\n",
       "    </tr>\n",
       "  </tbody>\n",
       "</table>\n",
       "</div>"
      ],
      "text/plain": [
       "          num_date_time  건물번호           일시  기온(C)  강수량(mm)  풍속(m/s)  습도(%)  \\\n",
       "203995  100_20220824 19   100  20220824 19   23.1      NaN      0.9   86.0   \n",
       "203996  100_20220824 20   100  20220824 20   22.4      NaN      1.3   86.0   \n",
       "203997  100_20220824 21   100  20220824 21   21.3      NaN      1.0   92.0   \n",
       "203998  100_20220824 22   100  20220824 22   21.0      NaN      0.3   94.0   \n",
       "203999  100_20220824 23   100  20220824 23   20.7      NaN      0.1   95.0   \n",
       "\n",
       "        일조(hr)  일사(MJ/m2)  전력소비량(kWh)  \n",
       "203995     0.5        NaN      881.04  \n",
       "203996     0.0        NaN      798.96  \n",
       "203997     NaN        NaN      825.12  \n",
       "203998     NaN        NaN      640.08  \n",
       "203999     NaN        NaN      540.24  "
      ]
     },
     "execution_count": 58,
     "metadata": {},
     "output_type": "execute_result"
    }
   ],
   "source": [
    "train_df.tail()"
   ]
  },
  {
   "cell_type": "code",
   "execution_count": 59,
   "metadata": {},
   "outputs": [
    {
     "name": "stdout",
     "output_type": "stream",
     "text": [
      "<class 'pandas.core.frame.DataFrame'>\n",
      "RangeIndex: 100 entries, 0 to 99\n",
      "Data columns (total 7 columns):\n",
      " #   Column        Non-Null Count  Dtype  \n",
      "---  ------        --------------  -----  \n",
      " 0   건물번호          100 non-null    int64  \n",
      " 1   건물유형          100 non-null    object \n",
      " 2   연면적(m2)       100 non-null    float64\n",
      " 3   냉방면적(m2)      100 non-null    float64\n",
      " 4   태양광용량(kW)     100 non-null    object \n",
      " 5   ESS저장용량(kWh)  100 non-null    object \n",
      " 6   PCS용량(kW)     100 non-null    object \n",
      "dtypes: float64(2), int64(1), object(4)\n",
      "memory usage: 5.6+ KB\n"
     ]
    }
   ],
   "source": [
    "building_df.info()"
   ]
  },
  {
   "cell_type": "code",
   "execution_count": 60,
   "metadata": {},
   "outputs": [
    {
     "data": {
      "text/html": [
       "<div>\n",
       "<style scoped>\n",
       "    .dataframe tbody tr th:only-of-type {\n",
       "        vertical-align: middle;\n",
       "    }\n",
       "\n",
       "    .dataframe tbody tr th {\n",
       "        vertical-align: top;\n",
       "    }\n",
       "\n",
       "    .dataframe thead th {\n",
       "        text-align: right;\n",
       "    }\n",
       "</style>\n",
       "<table border=\"1\" class=\"dataframe\">\n",
       "  <thead>\n",
       "    <tr style=\"text-align: right;\">\n",
       "      <th></th>\n",
       "      <th>건물번호</th>\n",
       "      <th>건물유형</th>\n",
       "      <th>연면적(m2)</th>\n",
       "      <th>냉방면적(m2)</th>\n",
       "      <th>태양광용량(kW)</th>\n",
       "      <th>ESS저장용량(kWh)</th>\n",
       "      <th>PCS용량(kW)</th>\n",
       "    </tr>\n",
       "  </thead>\n",
       "  <tbody>\n",
       "    <tr>\n",
       "      <th>95</th>\n",
       "      <td>96</td>\n",
       "      <td>호텔및리조트</td>\n",
       "      <td>93314.00</td>\n",
       "      <td>60500.00</td>\n",
       "      <td>-</td>\n",
       "      <td>-</td>\n",
       "      <td>-</td>\n",
       "    </tr>\n",
       "    <tr>\n",
       "      <th>96</th>\n",
       "      <td>97</td>\n",
       "      <td>호텔및리조트</td>\n",
       "      <td>55144.67</td>\n",
       "      <td>25880.00</td>\n",
       "      <td>-</td>\n",
       "      <td>-</td>\n",
       "      <td>-</td>\n",
       "    </tr>\n",
       "    <tr>\n",
       "      <th>97</th>\n",
       "      <td>98</td>\n",
       "      <td>호텔및리조트</td>\n",
       "      <td>53578.62</td>\n",
       "      <td>17373.75</td>\n",
       "      <td>-</td>\n",
       "      <td>-</td>\n",
       "      <td>-</td>\n",
       "    </tr>\n",
       "    <tr>\n",
       "      <th>98</th>\n",
       "      <td>99</td>\n",
       "      <td>호텔및리조트</td>\n",
       "      <td>53499.00</td>\n",
       "      <td>40636.00</td>\n",
       "      <td>-</td>\n",
       "      <td>-</td>\n",
       "      <td>-</td>\n",
       "    </tr>\n",
       "    <tr>\n",
       "      <th>99</th>\n",
       "      <td>100</td>\n",
       "      <td>호텔및리조트</td>\n",
       "      <td>57497.84</td>\n",
       "      <td>40035.23</td>\n",
       "      <td>-</td>\n",
       "      <td>-</td>\n",
       "      <td>-</td>\n",
       "    </tr>\n",
       "  </tbody>\n",
       "</table>\n",
       "</div>"
      ],
      "text/plain": [
       "    건물번호    건물유형   연면적(m2)  냉방면적(m2) 태양광용량(kW) ESS저장용량(kWh) PCS용량(kW)\n",
       "95    96  호텔및리조트  93314.00  60500.00         -            -         -\n",
       "96    97  호텔및리조트  55144.67  25880.00         -            -         -\n",
       "97    98  호텔및리조트  53578.62  17373.75         -            -         -\n",
       "98    99  호텔및리조트  53499.00  40636.00         -            -         -\n",
       "99   100  호텔및리조트  57497.84  40035.23         -            -         -"
      ]
     },
     "execution_count": 60,
     "metadata": {},
     "output_type": "execute_result"
    }
   ],
   "source": [
    "building_df.tail()"
   ]
  },
  {
   "cell_type": "markdown",
   "metadata": {},
   "source": [
    "## Train Data Pre-Processing"
   ]
  },
  {
   "cell_type": "markdown",
   "metadata": {},
   "source": [
    "### 결측치 처리"
   ]
  },
  {
   "cell_type": "code",
   "execution_count": 61,
   "metadata": {},
   "outputs": [
    {
     "data": {
      "text/plain": [
       "num_date_time         0\n",
       "건물번호                  0\n",
       "일시                    0\n",
       "기온(C)                 0\n",
       "강수량(mm)          160069\n",
       "풍속(m/s)              19\n",
       "습도(%)                 9\n",
       "일조(hr)            75182\n",
       "일사(MJ/m2)         87913\n",
       "전력소비량(kWh)            0\n",
       "dtype: int64"
      ]
     },
     "execution_count": 61,
     "metadata": {},
     "output_type": "execute_result"
    }
   ],
   "source": [
    "# 결측값이 있는지 확인\n",
    "train_df.isna().sum()"
   ]
  },
  {
   "cell_type": "code",
   "execution_count": 62,
   "metadata": {},
   "outputs": [],
   "source": [
    "#결측값을 0으로 채웁니다\n",
    "train_df = train_df.fillna(0)"
   ]
  },
  {
   "cell_type": "code",
   "execution_count": 63,
   "metadata": {},
   "outputs": [
    {
     "data": {
      "text/plain": [
       "num_date_time    0\n",
       "건물번호             0\n",
       "일시               0\n",
       "기온(C)            0\n",
       "강수량(mm)          0\n",
       "풍속(m/s)          0\n",
       "습도(%)            0\n",
       "일조(hr)           0\n",
       "일사(MJ/m2)        0\n",
       "전력소비량(kWh)       0\n",
       "dtype: int64"
      ]
     },
     "execution_count": 63,
     "metadata": {},
     "output_type": "execute_result"
    }
   ],
   "source": [
    "train_df.isnull().sum()"
   ]
  },
  {
   "cell_type": "markdown",
   "metadata": {},
   "source": [
    "#### building info에서 결측치 '-'를 0으로 변경 후 컬럼의 속성을 float로 변경하는 방법 : "
   ]
  },
  {
   "cell_type": "markdown",
   "metadata": {},
   "source": [
    "##### 1. 느린방법"
   ]
  },
  {
   "cell_type": "code",
   "execution_count": 64,
   "metadata": {},
   "outputs": [
    {
     "data": {
      "text/plain": [
       "건물번호             0\n",
       "건물유형             0\n",
       "연면적(m2)          0\n",
       "냉방면적(m2)         0\n",
       "태양광용량(kW)       64\n",
       "ESS저장용량(kWh)    95\n",
       "PCS용량(kW)       95\n",
       "dtype: int64"
      ]
     },
     "execution_count": 64,
     "metadata": {},
     "output_type": "execute_result"
    }
   ],
   "source": [
    "# 결측치가 '-' 를 확인\n",
    "building_df.isin(['-']).sum()"
   ]
  },
  {
   "cell_type": "code",
   "execution_count": 65,
   "metadata": {},
   "outputs": [],
   "source": [
    "# 결측치 '-'를 0으로 채움\n",
    "building_df.replace('-', 0, inplace=True)"
   ]
  },
  {
   "cell_type": "code",
   "execution_count": 66,
   "metadata": {},
   "outputs": [
    {
     "data": {
      "text/plain": [
       "건물번호            0\n",
       "건물유형            0\n",
       "연면적(m2)         0\n",
       "냉방면적(m2)        0\n",
       "태양광용량(kW)       0\n",
       "ESS저장용량(kWh)    0\n",
       "PCS용량(kW)       0\n",
       "dtype: int64"
      ]
     },
     "execution_count": 66,
     "metadata": {},
     "output_type": "execute_result"
    }
   ],
   "source": [
    "building_df.isin(['-']).sum()"
   ]
  },
  {
   "cell_type": "code",
   "execution_count": 67,
   "metadata": {},
   "outputs": [],
   "source": [
    "# 아래 컬럼의 속성을 float로 변환\n",
    "building_df['태양광용량(kW)'] = building_df['태양광용량(kW)'].astype(float)\n",
    "building_df['ESS저장용량(kWh)'] = building_df['ESS저장용량(kWh)'].astype(float)\n",
    "building_df['PCS용량(kW)'] = building_df['PCS용량(kW)'].astype(float)"
   ]
  },
  {
   "cell_type": "code",
   "execution_count": 68,
   "metadata": {},
   "outputs": [
    {
     "name": "stdout",
     "output_type": "stream",
     "text": [
      "<class 'pandas.core.frame.DataFrame'>\n",
      "RangeIndex: 100 entries, 0 to 99\n",
      "Data columns (total 7 columns):\n",
      " #   Column        Non-Null Count  Dtype  \n",
      "---  ------        --------------  -----  \n",
      " 0   건물번호          100 non-null    int64  \n",
      " 1   건물유형          100 non-null    object \n",
      " 2   연면적(m2)       100 non-null    float64\n",
      " 3   냉방면적(m2)      100 non-null    float64\n",
      " 4   태양광용량(kW)     100 non-null    float64\n",
      " 5   ESS저장용량(kWh)  100 non-null    float64\n",
      " 6   PCS용량(kW)     100 non-null    float64\n",
      "dtypes: float64(5), int64(1), object(1)\n",
      "memory usage: 5.6+ KB\n"
     ]
    }
   ],
   "source": [
    "building_df.info()"
   ]
  },
  {
   "cell_type": "markdown",
   "metadata": {},
   "source": [
    "##### 2. 빠른방법"
   ]
  },
  {
   "cell_type": "code",
   "execution_count": 69,
   "metadata": {},
   "outputs": [],
   "source": [
    "cols = ['태양광용량(kW)','ESS저장용량(kWh)','PCS용량(kW)']\n",
    "for col in cols:\n",
    "    building_df[col] = building_df[col].apply(lambda x : 0 if x =='-' else float(x))"
   ]
  },
  {
   "cell_type": "code",
   "execution_count": 70,
   "metadata": {},
   "outputs": [
    {
     "name": "stdout",
     "output_type": "stream",
     "text": [
      "<class 'pandas.core.frame.DataFrame'>\n",
      "RangeIndex: 100 entries, 0 to 99\n",
      "Data columns (total 7 columns):\n",
      " #   Column        Non-Null Count  Dtype  \n",
      "---  ------        --------------  -----  \n",
      " 0   건물번호          100 non-null    int64  \n",
      " 1   건물유형          100 non-null    object \n",
      " 2   연면적(m2)       100 non-null    float64\n",
      " 3   냉방면적(m2)      100 non-null    float64\n",
      " 4   태양광용량(kW)     100 non-null    float64\n",
      " 5   ESS저장용량(kWh)  100 non-null    float64\n",
      " 6   PCS용량(kW)     100 non-null    float64\n",
      "dtypes: float64(5), int64(1), object(1)\n",
      "memory usage: 5.6+ KB\n"
     ]
    }
   ],
   "source": [
    "building_df.info()"
   ]
  },
  {
   "cell_type": "markdown",
   "metadata": {},
   "source": [
    "### 필요 컬럼 생성 및 속성 변환"
   ]
  },
  {
   "cell_type": "code",
   "execution_count": 71,
   "metadata": {},
   "outputs": [],
   "source": [
    "#'일시' 컬럼을 날짜 컬럼으로 추가\n",
    "train_df['일시'] = pd.to_datetime(train_df['일시'])\n",
    "train_df['YEAR'] = train_df['일시'].dt.year\n",
    "train_df['MONTH'] = train_df['일시'].dt.month\n",
    "train_df['DAY'] = train_df['일시'].dt.day\n",
    "train_df['DATE'] = train_df['일시'].dt.date\n",
    "train_df['HOUR'] = train_df['일시'].dt.hour\n",
    "train_df['WEEKDAY'] = train_df['일시'].dt.weekday"
   ]
  },
  {
   "cell_type": "code",
   "execution_count": 72,
   "metadata": {},
   "outputs": [
    {
     "data": {
      "text/html": [
       "<div>\n",
       "<style scoped>\n",
       "    .dataframe tbody tr th:only-of-type {\n",
       "        vertical-align: middle;\n",
       "    }\n",
       "\n",
       "    .dataframe tbody tr th {\n",
       "        vertical-align: top;\n",
       "    }\n",
       "\n",
       "    .dataframe thead th {\n",
       "        text-align: right;\n",
       "    }\n",
       "</style>\n",
       "<table border=\"1\" class=\"dataframe\">\n",
       "  <thead>\n",
       "    <tr style=\"text-align: right;\">\n",
       "      <th></th>\n",
       "      <th>num_date_time</th>\n",
       "      <th>건물번호</th>\n",
       "      <th>일시</th>\n",
       "      <th>기온(C)</th>\n",
       "      <th>강수량(mm)</th>\n",
       "      <th>풍속(m/s)</th>\n",
       "      <th>습도(%)</th>\n",
       "      <th>일조(hr)</th>\n",
       "      <th>일사(MJ/m2)</th>\n",
       "      <th>전력소비량(kWh)</th>\n",
       "      <th>YEAR</th>\n",
       "      <th>MONTH</th>\n",
       "      <th>DAY</th>\n",
       "      <th>DATE</th>\n",
       "      <th>HOUR</th>\n",
       "      <th>WEEKDAY</th>\n",
       "    </tr>\n",
       "  </thead>\n",
       "  <tbody>\n",
       "    <tr>\n",
       "      <th>203995</th>\n",
       "      <td>100_20220824 19</td>\n",
       "      <td>100</td>\n",
       "      <td>2022-08-24 19:00:00</td>\n",
       "      <td>23.1</td>\n",
       "      <td>0.0</td>\n",
       "      <td>0.9</td>\n",
       "      <td>86.0</td>\n",
       "      <td>0.5</td>\n",
       "      <td>0.0</td>\n",
       "      <td>881.04</td>\n",
       "      <td>2022</td>\n",
       "      <td>8</td>\n",
       "      <td>24</td>\n",
       "      <td>2022-08-24</td>\n",
       "      <td>19</td>\n",
       "      <td>2</td>\n",
       "    </tr>\n",
       "    <tr>\n",
       "      <th>203996</th>\n",
       "      <td>100_20220824 20</td>\n",
       "      <td>100</td>\n",
       "      <td>2022-08-24 20:00:00</td>\n",
       "      <td>22.4</td>\n",
       "      <td>0.0</td>\n",
       "      <td>1.3</td>\n",
       "      <td>86.0</td>\n",
       "      <td>0.0</td>\n",
       "      <td>0.0</td>\n",
       "      <td>798.96</td>\n",
       "      <td>2022</td>\n",
       "      <td>8</td>\n",
       "      <td>24</td>\n",
       "      <td>2022-08-24</td>\n",
       "      <td>20</td>\n",
       "      <td>2</td>\n",
       "    </tr>\n",
       "    <tr>\n",
       "      <th>203997</th>\n",
       "      <td>100_20220824 21</td>\n",
       "      <td>100</td>\n",
       "      <td>2022-08-24 21:00:00</td>\n",
       "      <td>21.3</td>\n",
       "      <td>0.0</td>\n",
       "      <td>1.0</td>\n",
       "      <td>92.0</td>\n",
       "      <td>0.0</td>\n",
       "      <td>0.0</td>\n",
       "      <td>825.12</td>\n",
       "      <td>2022</td>\n",
       "      <td>8</td>\n",
       "      <td>24</td>\n",
       "      <td>2022-08-24</td>\n",
       "      <td>21</td>\n",
       "      <td>2</td>\n",
       "    </tr>\n",
       "    <tr>\n",
       "      <th>203998</th>\n",
       "      <td>100_20220824 22</td>\n",
       "      <td>100</td>\n",
       "      <td>2022-08-24 22:00:00</td>\n",
       "      <td>21.0</td>\n",
       "      <td>0.0</td>\n",
       "      <td>0.3</td>\n",
       "      <td>94.0</td>\n",
       "      <td>0.0</td>\n",
       "      <td>0.0</td>\n",
       "      <td>640.08</td>\n",
       "      <td>2022</td>\n",
       "      <td>8</td>\n",
       "      <td>24</td>\n",
       "      <td>2022-08-24</td>\n",
       "      <td>22</td>\n",
       "      <td>2</td>\n",
       "    </tr>\n",
       "    <tr>\n",
       "      <th>203999</th>\n",
       "      <td>100_20220824 23</td>\n",
       "      <td>100</td>\n",
       "      <td>2022-08-24 23:00:00</td>\n",
       "      <td>20.7</td>\n",
       "      <td>0.0</td>\n",
       "      <td>0.1</td>\n",
       "      <td>95.0</td>\n",
       "      <td>0.0</td>\n",
       "      <td>0.0</td>\n",
       "      <td>540.24</td>\n",
       "      <td>2022</td>\n",
       "      <td>8</td>\n",
       "      <td>24</td>\n",
       "      <td>2022-08-24</td>\n",
       "      <td>23</td>\n",
       "      <td>2</td>\n",
       "    </tr>\n",
       "  </tbody>\n",
       "</table>\n",
       "</div>"
      ],
      "text/plain": [
       "          num_date_time  건물번호                  일시  기온(C)  강수량(mm)  풍속(m/s)  \\\n",
       "203995  100_20220824 19   100 2022-08-24 19:00:00   23.1      0.0      0.9   \n",
       "203996  100_20220824 20   100 2022-08-24 20:00:00   22.4      0.0      1.3   \n",
       "203997  100_20220824 21   100 2022-08-24 21:00:00   21.3      0.0      1.0   \n",
       "203998  100_20220824 22   100 2022-08-24 22:00:00   21.0      0.0      0.3   \n",
       "203999  100_20220824 23   100 2022-08-24 23:00:00   20.7      0.0      0.1   \n",
       "\n",
       "        습도(%)  일조(hr)  일사(MJ/m2)  전력소비량(kWh)  YEAR  MONTH  DAY        DATE  \\\n",
       "203995   86.0     0.5        0.0      881.04  2022      8   24  2022-08-24   \n",
       "203996   86.0     0.0        0.0      798.96  2022      8   24  2022-08-24   \n",
       "203997   92.0     0.0        0.0      825.12  2022      8   24  2022-08-24   \n",
       "203998   94.0     0.0        0.0      640.08  2022      8   24  2022-08-24   \n",
       "203999   95.0     0.0        0.0      540.24  2022      8   24  2022-08-24   \n",
       "\n",
       "        HOUR  WEEKDAY  \n",
       "203995    19        2  \n",
       "203996    20        2  \n",
       "203997    21        2  \n",
       "203998    22        2  \n",
       "203999    23        2  "
      ]
     },
     "execution_count": 72,
     "metadata": {},
     "output_type": "execute_result"
    }
   ],
   "source": [
    "train_df.tail()"
   ]
  },
  {
   "cell_type": "markdown",
   "metadata": {},
   "source": [
    "### DF 합치기"
   ]
  },
  {
   "cell_type": "code",
   "execution_count": 73,
   "metadata": {},
   "outputs": [],
   "source": [
    "# building_df을 train_df으로 데이터 프레임 합치기\n",
    "train_df = pd.merge(train_df, building_df, how='left',on='건물번호')"
   ]
  },
  {
   "cell_type": "code",
   "execution_count": 74,
   "metadata": {},
   "outputs": [
    {
     "name": "stdout",
     "output_type": "stream",
     "text": [
      "<class 'pandas.core.frame.DataFrame'>\n",
      "RangeIndex: 204000 entries, 0 to 203999\n",
      "Data columns (total 22 columns):\n",
      " #   Column         Non-Null Count   Dtype         \n",
      "---  ------         --------------   -----         \n",
      " 0   num_date_time  204000 non-null  object        \n",
      " 1   건물번호           204000 non-null  int64         \n",
      " 2   일시             204000 non-null  datetime64[ns]\n",
      " 3   기온(C)          204000 non-null  float64       \n",
      " 4   강수량(mm)        204000 non-null  float64       \n",
      " 5   풍속(m/s)        204000 non-null  float64       \n",
      " 6   습도(%)          204000 non-null  float64       \n",
      " 7   일조(hr)         204000 non-null  float64       \n",
      " 8   일사(MJ/m2)      204000 non-null  float64       \n",
      " 9   전력소비량(kWh)     204000 non-null  float64       \n",
      " 10  YEAR           204000 non-null  int32         \n",
      " 11  MONTH          204000 non-null  int32         \n",
      " 12  DAY            204000 non-null  int32         \n",
      " 13  DATE           204000 non-null  object        \n",
      " 14  HOUR           204000 non-null  int32         \n",
      " 15  WEEKDAY        204000 non-null  int32         \n",
      " 16  건물유형           204000 non-null  object        \n",
      " 17  연면적(m2)        204000 non-null  float64       \n",
      " 18  냉방면적(m2)       204000 non-null  float64       \n",
      " 19  태양광용량(kW)      204000 non-null  float64       \n",
      " 20  ESS저장용량(kWh)   204000 non-null  float64       \n",
      " 21  PCS용량(kW)      204000 non-null  float64       \n",
      "dtypes: datetime64[ns](1), float64(12), int32(5), int64(1), object(3)\n",
      "memory usage: 30.3+ MB\n"
     ]
    }
   ],
   "source": [
    "train_df.info()"
   ]
  },
  {
   "cell_type": "markdown",
   "metadata": {},
   "source": [
    "### 컬럼 삭제"
   ]
  },
  {
   "cell_type": "code",
   "execution_count": 75,
   "metadata": {},
   "outputs": [],
   "source": [
    "# 생성된 컬럼 중 분석에 필요하지 않은 컬럼 제거\n",
    "train_df.drop(['num_date_time'], axis=1, inplace=True)"
   ]
  },
  {
   "cell_type": "markdown",
   "metadata": {},
   "source": [
    "## 데이터 분석하기"
   ]
  },
  {
   "cell_type": "code",
   "execution_count": 76,
   "metadata": {},
   "outputs": [
    {
     "data": {
      "text/plain": [
       "건물유형\n",
       "대학교        8.908494e+07\n",
       "건물기타       6.033480e+07\n",
       "데이터센터      5.504836e+07\n",
       "병원         4.753673e+07\n",
       "연구소        4.583898e+07\n",
       "상용         3.752580e+07\n",
       "백화점및아울렛    3.694639e+07\n",
       "지식산업센터     3.158805e+07\n",
       "공공         2.748253e+07\n",
       "호텔및리조트     2.415473e+07\n",
       "할인마트       2.310724e+07\n",
       "아파트        2.136289e+07\n",
       "Name: 전력소비량(kWh), dtype: float64"
      ]
     },
     "execution_count": 76,
     "metadata": {},
     "output_type": "execute_result"
    }
   ],
   "source": [
    "# 건물유형에 따른 전력소비량 확인하기\n",
    "train_df.groupby('건물유형')['전력소비량(kWh)'].sum().sort_values(ascending=False)"
   ]
  },
  {
   "cell_type": "code",
   "execution_count": 77,
   "metadata": {},
   "outputs": [
    {
     "data": {
      "image/png": "[encoded data removed]",
      "text/plain": [
       "<Figure size 1500x800 with 1 Axes>"
      ]
     },
     "metadata": {},
     "output_type": "display_data"
    }
   ],
   "source": [
    "# 건물유형에 따른 전력소비량 확인하기\n",
    "plt.figure(figsize=(15,8))\n",
    "sns.boxplot(x='건물유형', y='전력소비량(kWh)', data=train_df)\n",
    "plt.show()"
   ]
  },
  {
   "cell_type": "code",
   "execution_count": 79,
   "metadata": {},
   "outputs": [
    {
     "name": "stdout",
     "output_type": "stream",
     "text": [
      "<class 'pandas.core.frame.DataFrame'>\n",
      "RangeIndex: 204000 entries, 0 to 203999\n",
      "Data columns (total 21 columns):\n",
      " #   Column        Non-Null Count   Dtype         \n",
      "---  ------        --------------   -----         \n",
      " 0   건물번호          204000 non-null  int64         \n",
      " 1   일시            204000 non-null  datetime64[ns]\n",
      " 2   기온(C)         204000 non-null  float64       \n",
      " 3   강수량(mm)       204000 non-null  float64       \n",
      " 4   풍속(m/s)       204000 non-null  float64       \n",
      " 5   습도(%)         204000 non-null  float64       \n",
      " 6   일조(hr)        204000 non-null  float64       \n",
      " 7   일사(MJ/m2)     204000 non-null  float64       \n",
      " 8   전력소비량(kWh)    204000 non-null  float64       \n",
      " 9   YEAR          204000 non-null  int32         \n",
      " 10  MONTH         204000 non-null  int32         \n",
      " 11  DAY           204000 non-null  int32         \n",
      " 12  DATE          204000 non-null  object        \n",
      " 13  HOUR          204000 non-null  int32         \n",
      " 14  WEEKDAY       204000 non-null  int32         \n",
      " 15  건물유형          204000 non-null  object        \n",
      " 16  연면적(m2)       204000 non-null  float64       \n",
      " 17  냉방면적(m2)      204000 non-null  float64       \n",
      " 18  태양광용량(kW)     204000 non-null  float64       \n",
      " 19  ESS저장용량(kWh)  204000 non-null  float64       \n",
      " 20  PCS용량(kW)     204000 non-null  float64       \n",
      "dtypes: datetime64[ns](1), float64(12), int32(5), int64(1), object(2)\n",
      "memory usage: 28.8+ MB\n"
     ]
    }
   ],
   "source": [
    "train_df.info()"
   ]
  },
  {
   "cell_type": "code",
   "execution_count": 104,
   "metadata": {},
   "outputs": [],
   "source": [
    "#각 건물유형 별 corr 확인하기\n",
    "building_infos = ['건물기타', '공공', '대학교', '데이터센터', '백화점및아울렛', '병원', '상용', '아파트', '연구소', '지식산업센터', '할인마트', '호텔및리조트']\n",
    "\n",
    "result_list = []\n",
    "for index, building_info in enumerate(building_infos):\n",
    "    result_df = train_df[train_df['건물유형'] == building_info]\n",
    "    result_df = result_df.drop(['건물번호', '일시', 'YEAR', 'MONTH', 'DAY', 'DATE', 'HOUR', 'WEEKDAY', '건물유형'], axis=1)\n",
    "    result_list.append(result_df.corr())\n"
   ]
  },
  {
   "cell_type": "code",
   "execution_count": 119,
   "metadata": {},
   "outputs": [
    {
     "data": {
      "text/html": [
       "<div>\n",
       "<style scoped>\n",
       "    .dataframe tbody tr th:only-of-type {\n",
       "        vertical-align: middle;\n",
       "    }\n",
       "\n",
       "    .dataframe tbody tr th {\n",
       "        vertical-align: top;\n",
       "    }\n",
       "\n",
       "    .dataframe thead th {\n",
       "        text-align: right;\n",
       "    }\n",
       "</style>\n",
       "<table border=\"1\" class=\"dataframe\">\n",
       "  <thead>\n",
       "    <tr style=\"text-align: right;\">\n",
       "      <th></th>\n",
       "      <th>기온(C)</th>\n",
       "      <th>강수량(mm)</th>\n",
       "      <th>풍속(m/s)</th>\n",
       "      <th>습도(%)</th>\n",
       "      <th>일조(hr)</th>\n",
       "      <th>일사(MJ/m2)</th>\n",
       "      <th>전력소비량(kWh)</th>\n",
       "      <th>연면적(m2)</th>\n",
       "      <th>냉방면적(m2)</th>\n",
       "      <th>태양광용량(kW)</th>\n",
       "      <th>ESS저장용량(kWh)</th>\n",
       "      <th>PCS용량(kW)</th>\n",
       "    </tr>\n",
       "  </thead>\n",
       "  <tbody>\n",
       "    <tr>\n",
       "      <th>기온(C)</th>\n",
       "      <td>1.000000</td>\n",
       "      <td>-0.067495</td>\n",
       "      <td>0.164528</td>\n",
       "      <td>-0.388714</td>\n",
       "      <td>0.411565</td>\n",
       "      <td>0.437953</td>\n",
       "      <td>0.236235</td>\n",
       "      <td>0.108929</td>\n",
       "      <td>0.092884</td>\n",
       "      <td>-0.037126</td>\n",
       "      <td>0.020618</td>\n",
       "      <td>0.020634</td>\n",
       "    </tr>\n",
       "    <tr>\n",
       "      <th>강수량(mm)</th>\n",
       "      <td>-0.067495</td>\n",
       "      <td>1.000000</td>\n",
       "      <td>0.035724</td>\n",
       "      <td>0.211124</td>\n",
       "      <td>-0.099540</td>\n",
       "      <td>-0.099320</td>\n",
       "      <td>-0.022185</td>\n",
       "      <td>0.001934</td>\n",
       "      <td>-0.001143</td>\n",
       "      <td>0.011182</td>\n",
       "      <td>0.015948</td>\n",
       "      <td>0.015769</td>\n",
       "    </tr>\n",
       "    <tr>\n",
       "      <th>풍속(m/s)</th>\n",
       "      <td>0.164528</td>\n",
       "      <td>0.035724</td>\n",
       "      <td>1.000000</td>\n",
       "      <td>-0.148238</td>\n",
       "      <td>0.165861</td>\n",
       "      <td>0.258979</td>\n",
       "      <td>0.282301</td>\n",
       "      <td>-0.114225</td>\n",
       "      <td>-0.049676</td>\n",
       "      <td>-0.210244</td>\n",
       "      <td>-0.011761</td>\n",
       "      <td>-0.011235</td>\n",
       "    </tr>\n",
       "    <tr>\n",
       "      <th>습도(%)</th>\n",
       "      <td>-0.388714</td>\n",
       "      <td>0.211124</td>\n",
       "      <td>-0.148238</td>\n",
       "      <td>1.000000</td>\n",
       "      <td>-0.569543</td>\n",
       "      <td>-0.538044</td>\n",
       "      <td>-0.058753</td>\n",
       "      <td>-0.120158</td>\n",
       "      <td>-0.102341</td>\n",
       "      <td>0.040834</td>\n",
       "      <td>-0.038521</td>\n",
       "      <td>-0.038288</td>\n",
       "    </tr>\n",
       "    <tr>\n",
       "      <th>일조(hr)</th>\n",
       "      <td>0.411565</td>\n",
       "      <td>-0.099540</td>\n",
       "      <td>0.165861</td>\n",
       "      <td>-0.569543</td>\n",
       "      <td>1.000000</td>\n",
       "      <td>0.769990</td>\n",
       "      <td>0.162756</td>\n",
       "      <td>-0.022260</td>\n",
       "      <td>-0.011053</td>\n",
       "      <td>-0.021973</td>\n",
       "      <td>-0.014636</td>\n",
       "      <td>-0.014949</td>\n",
       "    </tr>\n",
       "    <tr>\n",
       "      <th>일사(MJ/m2)</th>\n",
       "      <td>0.437953</td>\n",
       "      <td>-0.099320</td>\n",
       "      <td>0.258979</td>\n",
       "      <td>-0.538044</td>\n",
       "      <td>0.769990</td>\n",
       "      <td>1.000000</td>\n",
       "      <td>0.267865</td>\n",
       "      <td>0.041703</td>\n",
       "      <td>0.050035</td>\n",
       "      <td>-0.156317</td>\n",
       "      <td>0.015439</td>\n",
       "      <td>0.015233</td>\n",
       "    </tr>\n",
       "    <tr>\n",
       "      <th>전력소비량(kWh)</th>\n",
       "      <td>0.236235</td>\n",
       "      <td>-0.022185</td>\n",
       "      <td>0.282301</td>\n",
       "      <td>-0.058753</td>\n",
       "      <td>0.162756</td>\n",
       "      <td>0.267865</td>\n",
       "      <td>1.000000</td>\n",
       "      <td>-0.052800</td>\n",
       "      <td>-0.041983</td>\n",
       "      <td>-0.095947</td>\n",
       "      <td>0.096755</td>\n",
       "      <td>0.100848</td>\n",
       "    </tr>\n",
       "    <tr>\n",
       "      <th>연면적(m2)</th>\n",
       "      <td>0.108929</td>\n",
       "      <td>0.001934</td>\n",
       "      <td>-0.114225</td>\n",
       "      <td>-0.120158</td>\n",
       "      <td>-0.022260</td>\n",
       "      <td>0.041703</td>\n",
       "      <td>-0.052800</td>\n",
       "      <td>1.000000</td>\n",
       "      <td>0.658802</td>\n",
       "      <td>-0.321384</td>\n",
       "      <td>0.357708</td>\n",
       "      <td>0.359065</td>\n",
       "    </tr>\n",
       "    <tr>\n",
       "      <th>냉방면적(m2)</th>\n",
       "      <td>0.092884</td>\n",
       "      <td>-0.001143</td>\n",
       "      <td>-0.049676</td>\n",
       "      <td>-0.102341</td>\n",
       "      <td>-0.011053</td>\n",
       "      <td>0.050035</td>\n",
       "      <td>-0.041983</td>\n",
       "      <td>0.658802</td>\n",
       "      <td>1.000000</td>\n",
       "      <td>-0.295607</td>\n",
       "      <td>0.458752</td>\n",
       "      <td>0.460902</td>\n",
       "    </tr>\n",
       "    <tr>\n",
       "      <th>태양광용량(kW)</th>\n",
       "      <td>-0.037126</td>\n",
       "      <td>0.011182</td>\n",
       "      <td>-0.210244</td>\n",
       "      <td>0.040834</td>\n",
       "      <td>-0.021973</td>\n",
       "      <td>-0.156317</td>\n",
       "      <td>-0.095947</td>\n",
       "      <td>-0.321384</td>\n",
       "      <td>-0.295607</td>\n",
       "      <td>1.000000</td>\n",
       "      <td>-0.148816</td>\n",
       "      <td>-0.147783</td>\n",
       "    </tr>\n",
       "    <tr>\n",
       "      <th>ESS저장용량(kWh)</th>\n",
       "      <td>0.020618</td>\n",
       "      <td>0.015948</td>\n",
       "      <td>-0.011761</td>\n",
       "      <td>-0.038521</td>\n",
       "      <td>-0.014636</td>\n",
       "      <td>0.015439</td>\n",
       "      <td>0.096755</td>\n",
       "      <td>0.357708</td>\n",
       "      <td>0.458752</td>\n",
       "      <td>-0.148816</td>\n",
       "      <td>1.000000</td>\n",
       "      <td>0.999925</td>\n",
       "    </tr>\n",
       "    <tr>\n",
       "      <th>PCS용량(kW)</th>\n",
       "      <td>0.020634</td>\n",
       "      <td>0.015769</td>\n",
       "      <td>-0.011235</td>\n",
       "      <td>-0.038288</td>\n",
       "      <td>-0.014949</td>\n",
       "      <td>0.015233</td>\n",
       "      <td>0.100848</td>\n",
       "      <td>0.359065</td>\n",
       "      <td>0.460902</td>\n",
       "      <td>-0.147783</td>\n",
       "      <td>0.999925</td>\n",
       "      <td>1.000000</td>\n",
       "    </tr>\n",
       "  </tbody>\n",
       "</table>\n",
       "</div>"
      ],
      "text/plain": [
       "                 기온(C)   강수량(mm)   풍속(m/s)     습도(%)    일조(hr)  일사(MJ/m2)  \\\n",
       "기온(C)         1.000000 -0.067495  0.164528 -0.388714  0.411565   0.437953   \n",
       "강수량(mm)      -0.067495  1.000000  0.035724  0.211124 -0.099540  -0.099320   \n",
       "풍속(m/s)       0.164528  0.035724  1.000000 -0.148238  0.165861   0.258979   \n",
       "습도(%)        -0.388714  0.211124 -0.148238  1.000000 -0.569543  -0.538044   \n",
       "일조(hr)        0.411565 -0.099540  0.165861 -0.569543  1.000000   0.769990   \n",
       "일사(MJ/m2)     0.437953 -0.099320  0.258979 -0.538044  0.769990   1.000000   \n",
       "전력소비량(kWh)    0.236235 -0.022185  0.282301 -0.058753  0.162756   0.267865   \n",
       "연면적(m2)       0.108929  0.001934 -0.114225 -0.120158 -0.022260   0.041703   \n",
       "냉방면적(m2)      0.092884 -0.001143 -0.049676 -0.102341 -0.011053   0.050035   \n",
       "태양광용량(kW)    -0.037126  0.011182 -0.210244  0.040834 -0.021973  -0.156317   \n",
       "ESS저장용량(kWh)  0.020618  0.015948 -0.011761 -0.038521 -0.014636   0.015439   \n",
       "PCS용량(kW)     0.020634  0.015769 -0.011235 -0.038288 -0.014949   0.015233   \n",
       "\n",
       "              전력소비량(kWh)   연면적(m2)  냉방면적(m2)  태양광용량(kW)  ESS저장용량(kWh)  \\\n",
       "기온(C)           0.236235  0.108929  0.092884  -0.037126      0.020618   \n",
       "강수량(mm)        -0.022185  0.001934 -0.001143   0.011182      0.015948   \n",
       "풍속(m/s)         0.282301 -0.114225 -0.049676  -0.210244     -0.011761   \n",
       "습도(%)          -0.058753 -0.120158 -0.102341   0.040834     -0.038521   \n",
       "일조(hr)          0.162756 -0.022260 -0.011053  -0.021973     -0.014636   \n",
       "일사(MJ/m2)       0.267865  0.041703  0.050035  -0.156317      0.015439   \n",
       "전력소비량(kWh)      1.000000 -0.052800 -0.041983  -0.095947      0.096755   \n",
       "연면적(m2)        -0.052800  1.000000  0.658802  -0.321384      0.357708   \n",
       "냉방면적(m2)       -0.041983  0.658802  1.000000  -0.295607      0.458752   \n",
       "태양광용량(kW)      -0.095947 -0.321384 -0.295607   1.000000     -0.148816   \n",
       "ESS저장용량(kWh)    0.096755  0.357708  0.458752  -0.148816      1.000000   \n",
       "PCS용량(kW)       0.100848  0.359065  0.460902  -0.147783      0.999925   \n",
       "\n",
       "              PCS용량(kW)  \n",
       "기온(C)          0.020634  \n",
       "강수량(mm)        0.015769  \n",
       "풍속(m/s)       -0.011235  \n",
       "습도(%)         -0.038288  \n",
       "일조(hr)        -0.014949  \n",
       "일사(MJ/m2)      0.015233  \n",
       "전력소비량(kWh)     0.100848  \n",
       "연면적(m2)        0.359065  \n",
       "냉방면적(m2)       0.460902  \n",
       "태양광용량(kW)     -0.147783  \n",
       "ESS저장용량(kWh)   0.999925  \n",
       "PCS용량(kW)      1.000000  "
      ]
     },
     "execution_count": 119,
     "metadata": {},
     "output_type": "execute_result"
    }
   ],
   "source": [
    "result_list[0][0, 6]"
   ]
  },
  {
   "cell_type": "code",
   "execution_count": 121,
   "metadata": {},
   "outputs": [
    {
     "data": {
      "text/plain": [
       "0.23623450891795789"
      ]
     },
     "execution_count": 121,
     "metadata": {},
     "output_type": "execute_result"
    }
   ],
   "source": [
    "result_list[0].iloc[0, 6]"
   ]
  },
  {
   "cell_type": "code",
   "execution_count": 127,
   "metadata": {},
   "outputs": [],
   "source": [
    "corr_list = []\n",
    "for index, building_info in enumerate(building_infos):\n",
    "    corr_list.append(result_list[index].iloc[0, 6])\n"
   ]
  },
  {
   "cell_type": "code",
   "execution_count": 134,
   "metadata": {},
   "outputs": [],
   "source": [
    "col = ['전력소비량(kWh)_corr_기온(C)']\n",
    "corr_df = pd.DataFrame(corr_list, building_infos, col)"
   ]
  },
  {
   "cell_type": "code",
   "execution_count": 135,
   "metadata": {},
   "outputs": [
    {
     "data": {
      "text/html": [
       "<div>\n",
       "<style scoped>\n",
       "    .dataframe tbody tr th:only-of-type {\n",
       "        vertical-align: middle;\n",
       "    }\n",
       "\n",
       "    .dataframe tbody tr th {\n",
       "        vertical-align: top;\n",
       "    }\n",
       "\n",
       "    .dataframe thead th {\n",
       "        text-align: right;\n",
       "    }\n",
       "</style>\n",
       "<table border=\"1\" class=\"dataframe\">\n",
       "  <thead>\n",
       "    <tr style=\"text-align: right;\">\n",
       "      <th></th>\n",
       "      <th>전력소비량(kWh)_corr_기온(C)</th>\n",
       "    </tr>\n",
       "  </thead>\n",
       "  <tbody>\n",
       "    <tr>\n",
       "      <th>건물기타</th>\n",
       "      <td>0.236235</td>\n",
       "    </tr>\n",
       "    <tr>\n",
       "      <th>공공</th>\n",
       "      <td>0.250507</td>\n",
       "    </tr>\n",
       "    <tr>\n",
       "      <th>대학교</th>\n",
       "      <td>0.200199</td>\n",
       "    </tr>\n",
       "    <tr>\n",
       "      <th>데이터센터</th>\n",
       "      <td>0.045193</td>\n",
       "    </tr>\n",
       "    <tr>\n",
       "      <th>백화점및아울렛</th>\n",
       "      <td>0.526836</td>\n",
       "    </tr>\n",
       "    <tr>\n",
       "      <th>병원</th>\n",
       "      <td>0.228532</td>\n",
       "    </tr>\n",
       "    <tr>\n",
       "      <th>상용</th>\n",
       "      <td>0.223891</td>\n",
       "    </tr>\n",
       "    <tr>\n",
       "      <th>아파트</th>\n",
       "      <td>0.238030</td>\n",
       "    </tr>\n",
       "    <tr>\n",
       "      <th>연구소</th>\n",
       "      <td>0.168468</td>\n",
       "    </tr>\n",
       "    <tr>\n",
       "      <th>지식산업센터</th>\n",
       "      <td>0.369746</td>\n",
       "    </tr>\n",
       "    <tr>\n",
       "      <th>할인마트</th>\n",
       "      <td>0.490634</td>\n",
       "    </tr>\n",
       "    <tr>\n",
       "      <th>호텔및리조트</th>\n",
       "      <td>0.318620</td>\n",
       "    </tr>\n",
       "  </tbody>\n",
       "</table>\n",
       "</div>"
      ],
      "text/plain": [
       "         전력소비량(kWh)_corr_기온(C)\n",
       "건물기타                  0.236235\n",
       "공공                    0.250507\n",
       "대학교                   0.200199\n",
       "데이터센터                 0.045193\n",
       "백화점및아울렛               0.526836\n",
       "병원                    0.228532\n",
       "상용                    0.223891\n",
       "아파트                   0.238030\n",
       "연구소                   0.168468\n",
       "지식산업센터                0.369746\n",
       "할인마트                  0.490634\n",
       "호텔및리조트                0.318620"
      ]
     },
     "execution_count": 135,
     "metadata": {},
     "output_type": "execute_result"
    }
   ],
   "source": [
    "corr_df"
   ]
  },
  {
   "cell_type": "markdown",
   "metadata": {},
   "source": [
    "### 집에서 정리할것!"
   ]
  },
  {
   "cell_type": "code",
   "execution_count": null,
   "metadata": {},
   "outputs": [],
   "source": []
  },
  {
   "cell_type": "code",
   "execution_count": null,
   "metadata": {},
   "outputs": [],
   "source": []
  },
  {
   "cell_type": "code",
   "execution_count": null,
   "metadata": {},
   "outputs": [],
   "source": []
  },
  {
   "cell_type": "code",
   "execution_count": null,
   "metadata": {},
   "outputs": [],
   "source": []
  },
  {
   "cell_type": "code",
   "execution_count": null,
   "metadata": {},
   "outputs": [],
   "source": [
    "train_df.info()"
   ]
  },
  {
   "cell_type": "code",
   "execution_count": null,
   "metadata": {},
   "outputs": [],
   "source": [
    "analyze_df = train_df.drop(['일시', 'YEAR', 'MONTH', 'DAY', 'DATE', 'HOUR', 'WEEKDAY'], axis=1)"
   ]
  },
  {
   "cell_type": "code",
   "execution_count": null,
   "metadata": {},
   "outputs": [],
   "source": [
    "pd.unique(analyze_df['건물유형'])\n"
   ]
  },
  {
   "cell_type": "code",
   "execution_count": null,
   "metadata": {},
   "outputs": [],
   "source": [
    "pd.unique(le.inverse_transform(analyze_df['건물유형']))"
   ]
  },
  {
   "cell_type": "code",
   "execution_count": null,
   "metadata": {},
   "outputs": [],
   "source": [
    "i_df = analyze_df[analyze_df['건물유형'] == 0]\n",
    "i_df.corr()"
   ]
  },
  {
   "cell_type": "code",
   "execution_count": null,
   "metadata": {},
   "outputs": [],
   "source": [
    "i_df = analyze_df[analyze_df['건물유형'] == 1]\n",
    "i_df.corr()"
   ]
  },
  {
   "cell_type": "code",
   "execution_count": null,
   "metadata": {},
   "outputs": [],
   "source": []
  },
  {
   "cell_type": "code",
   "execution_count": null,
   "metadata": {},
   "outputs": [],
   "source": [
    "i_df = analyze_df[analyze_df['건물유형'] == 2]\n",
    "i_df.corr()"
   ]
  },
  {
   "cell_type": "code",
   "execution_count": null,
   "metadata": {},
   "outputs": [],
   "source": [
    "building_infos = ['건물기타', '공공', '대학교', '데이터센터', '백화점및아울렛', '병원', '상용', '아파트', '연구소', '지식산업센터', '할인마트', '호텔및리조트']\n",
    "\n",
    "plt.figure(figsize=(15,8))\n",
    "for building_info in building_infos:\n",
    "    i_df = train_df[train_df['건물유형'] == building_info]\n",
    "    sns.scatterplot(x='일시', y='기온(C)', data=i_df)\n",
    "    plt.show()"
   ]
  },
  {
   "cell_type": "code",
   "execution_count": null,
   "metadata": {},
   "outputs": [],
   "source": [
    "# 건물유형에 따른 날짜별 온도확인\n",
    "pd.unique(train_df['건물유형'])"
   ]
  },
  {
   "cell_type": "code",
   "execution_count": null,
   "metadata": {},
   "outputs": [],
   "source": [
    "univercity_df = train_df[train_df['건물유형'] == '대학교']"
   ]
  },
  {
   "cell_type": "code",
   "execution_count": null,
   "metadata": {},
   "outputs": [],
   "source": [
    "plt.figure(figsize=(15,8))\n",
    "plt.title('대학교 건물번호별 전력소비량', fontsize=14)\n",
    "sns.lineplot(x='일시', y='전력소비량(kWh)', hue='건물번호', data=univercity_df)\n",
    "plt.show()"
   ]
  },
  {
   "cell_type": "code",
   "execution_count": null,
   "metadata": {},
   "outputs": [],
   "source": [
    "plt.figure(figsize=(15,8))\n",
    "plt.title('대학교 온도', fontsize=14)\n",
    "sns.lineplot(x='일시', y='기온(C)', data=univercity_df)\n",
    "plt.show()"
   ]
  },
  {
   "cell_type": "code",
   "execution_count": null,
   "metadata": {},
   "outputs": [],
   "source": [
    "plt.figure(figsize=(15,8))\n",
    "plt.title('기온에 따른 전력소비량', fontsize=14)\n",
    "sns.lineplot(x='기온(C)', y='전력소비량(kWh)', hue='건물번호', data=univercity_df)\n",
    "plt.show()"
   ]
  },
  {
   "cell_type": "code",
   "execution_count": null,
   "metadata": {},
   "outputs": [],
   "source": [
    "plt.figure(figsize=(15,8))\n",
    "plt.title('날짜에 따른 대학교 전력소비량', fontsize=14)\n",
    "sns.barplot(x='DATE', y='전력소비량(kWh)',data=univercity_df)\n",
    "plt.show()"
   ]
  },
  {
   "cell_type": "code",
   "execution_count": null,
   "metadata": {},
   "outputs": [],
   "source": [
    "plt.figure(figsize=(15,8))\n",
    "plt.title('날짜에 따른 대학교 기온변화', fontsize=14)\n",
    "sns.lineplot(x='DATE', y='기온(C)', data=univercity_df)\n",
    "plt.show()"
   ]
  },
  {
   "cell_type": "code",
   "execution_count": null,
   "metadata": {},
   "outputs": [],
   "source": [
    "plt.figure(figsize=(15,8))\n",
    "plt.title('기온에 따른 전력소비량', fontsize=14)\n",
    "sns.barplot(x='기온(C)', y='전력소비량(kWh)', data=univercity_df)\n",
    "plt.show()"
   ]
  },
  {
   "cell_type": "code",
   "execution_count": null,
   "metadata": {},
   "outputs": [],
   "source": [
    "plt.figure(figsize=(15,8))\n",
    "\n",
    "\n",
    "\n",
    "sns.lineplot(x='DATE', y='기온(C)', label=\"기온\", data=univercity_df)\n",
    "sns.barplot(x='DATE', y='전력소비량(kWh)', label=\"전력소비량(kWh)\", data=univercity_df)\n",
    "plt.show()"
   ]
  },
  {
   "cell_type": "code",
   "execution_count": null,
   "metadata": {},
   "outputs": [],
   "source": [
    "univercity_df.tail()"
   ]
  },
  {
   "cell_type": "code",
   "execution_count": null,
   "metadata": {},
   "outputs": [],
   "source": []
  },
  {
   "cell_type": "code",
   "execution_count": null,
   "metadata": {},
   "outputs": [],
   "source": []
  },
  {
   "cell_type": "code",
   "execution_count": null,
   "metadata": {},
   "outputs": [],
   "source": []
  },
  {
   "cell_type": "code",
   "execution_count": null,
   "metadata": {},
   "outputs": [],
   "source": []
  },
  {
   "cell_type": "code",
   "execution_count": null,
   "metadata": {},
   "outputs": [],
   "source": []
  },
  {
   "cell_type": "code",
   "execution_count": null,
   "metadata": {},
   "outputs": [],
   "source": []
  },
  {
   "cell_type": "code",
   "execution_count": null,
   "metadata": {},
   "outputs": [],
   "source": []
  },
  {
   "cell_type": "code",
   "execution_count": null,
   "metadata": {},
   "outputs": [],
   "source": [
    "building_infos = ['건물기타', '공공', '대학교', '데이터센터', '백화점및아울렛', '병원', '상용', '아파트', '연구소', '지식산업센터', '할인마트', '호텔및리조트']\n",
    "\n",
    "plt.figure(figsize=(15,8))\n",
    "for building_info in building_infos:\n",
    "    plt.figure(figsize=(15,8))\n",
    "    plt.title(building_info, fontsize=14)\n",
    "    i_df = train_df[train_df['건물유형'] == building_info]\n",
    "    sns.scatterplot(x='일시', y='기온(C)', data=i_df)\n",
    "    plt.show()"
   ]
  },
  {
   "cell_type": "code",
   "execution_count": null,
   "metadata": {},
   "outputs": [],
   "source": []
  },
  {
   "cell_type": "code",
   "execution_count": null,
   "metadata": {},
   "outputs": [],
   "source": []
  },
  {
   "cell_type": "code",
   "execution_count": null,
   "metadata": {},
   "outputs": [],
   "source": []
  },
  {
   "cell_type": "markdown",
   "metadata": {},
   "source": [
    "## 레이블 작업 하기"
   ]
  },
  {
   "cell_type": "code",
   "execution_count": null,
   "metadata": {},
   "outputs": [],
   "source": [
    "pd.unique(train_df['건물유형'])"
   ]
  },
  {
   "cell_type": "code",
   "execution_count": null,
   "metadata": {},
   "outputs": [],
   "source": [
    "# 레이블링 작업\n",
    "le = LabelEncoder()\n",
    "train_df['건물유형'] = le.fit_transform(train_df['건물유형'])"
   ]
  },
  {
   "cell_type": "code",
   "execution_count": null,
   "metadata": {},
   "outputs": [],
   "source": [
    "train_df.info()"
   ]
  },
  {
   "cell_type": "code",
   "execution_count": null,
   "metadata": {},
   "outputs": [],
   "source": [
    "train_df.corr()"
   ]
  },
  {
   "cell_type": "code",
   "execution_count": null,
   "metadata": {},
   "outputs": [],
   "source": []
  },
  {
   "cell_type": "code",
   "execution_count": null,
   "metadata": {},
   "outputs": [],
   "source": []
  },
  {
   "cell_type": "code",
   "execution_count": null,
   "metadata": {},
   "outputs": [],
   "source": []
  },
  {
   "cell_type": "code",
   "execution_count": null,
   "metadata": {},
   "outputs": [],
   "source": []
  },
  {
   "cell_type": "code",
   "execution_count": null,
   "metadata": {},
   "outputs": [],
   "source": []
  },
  {
   "cell_type": "code",
   "execution_count": null,
   "metadata": {},
   "outputs": [],
   "source": []
  },
  {
   "cell_type": "code",
   "execution_count": null,
   "metadata": {},
   "outputs": [],
   "source": []
  },
  {
   "cell_type": "code",
   "execution_count": null,
   "metadata": {},
   "outputs": [],
   "source": []
  },
  {
   "cell_type": "markdown",
   "metadata": {},
   "source": [
    "## 모델 선정하기"
   ]
  },
  {
   "cell_type": "code",
   "execution_count": null,
   "metadata": {},
   "outputs": [],
   "source": [
    "x_train = train_df.drop(['전력소비량(kWh)'], axis=1)\n",
    "y_train = train_df['전력소비량(kWh)']"
   ]
  },
  {
   "cell_type": "code",
   "execution_count": null,
   "metadata": {},
   "outputs": [],
   "source": [
    "# 성능 지표, 교차 검증 세트\n",
    "# neg_mean_absolute_error, neg_mean_squared_error, neg_root_mean_squared_error\n",
    "score_param = 'neg_root_mean_squared_error'\n",
    "cv_param = 5\n",
    "round_param = 4\n",
    "\n",
    "model = LinearRegression(n_jobs=-1)\n",
    "\n",
    "scores = cross_val_score(model, x_train, y_train, cv=cv_param, scoring=score_param)\n",
    "print('교차 검증별 정확도:',np.round(scores, round_param))\n",
    "print('평균 검증 정확도:', np.round(np.mean(scores), round_param))"
   ]
  },
  {
   "cell_type": "code",
   "execution_count": null,
   "metadata": {},
   "outputs": [],
   "source": [
    "model = SGDRegressor()\n",
    "\n",
    "scores = cross_val_score(model, x_train, y_train, cv=cv_param, scoring=score_param)\n",
    "print('교차 검증별 정확도:',np.round(scores, round_param))\n",
    "print('평균 검증 정확도:', np.round(np.mean(scores), round_param))"
   ]
  },
  {
   "cell_type": "code",
   "execution_count": null,
   "metadata": {},
   "outputs": [],
   "source": [
    "model = ARDRegression()\n",
    "\n",
    "scores = cross_val_score(model, x_train, y_train, cv=cv_param, scoring=score_param)\n",
    "print('교차 검증별 정확도:',np.round(scores, round_param))\n",
    "print('평균 검증 정확도:', np.round(np.mean(scores), round_param))"
   ]
  },
  {
   "cell_type": "code",
   "execution_count": null,
   "metadata": {},
   "outputs": [],
   "source": [
    "model = RandomForestRegressor(n_jobs=-1)\n",
    "\n",
    "scores = cross_val_score(model, x_train, y_train, cv=cv_param, scoring=score_param)\n",
    "print('교차 검증별 정확도:',np.round(scores, round_param))\n",
    "print('평균 검증 정확도:', np.round(np.mean(scores), round_param))"
   ]
  },
  {
   "cell_type": "code",
   "execution_count": null,
   "metadata": {},
   "outputs": [],
   "source": [
    "model = GradientBoostingRegressor()\n",
    "\n",
    "scores = cross_val_score(model, x_train, y_train, cv=cv_param, scoring=score_param)\n",
    "print('교차 검증별 정확도:',np.round(scores, round_param))\n",
    "print('평균 검증 정확도:', np.round(np.mean(scores), round_param))"
   ]
  },
  {
   "cell_type": "code",
   "execution_count": null,
   "metadata": {},
   "outputs": [],
   "source": [
    "model = BaggingRegressor()\n",
    "\n",
    "scores = cross_val_score(model, x_train, y_train, cv=cv_param, scoring=score_param)\n",
    "print('교차 검증별 정확도:',np.round(scores, round_param))\n",
    "print('평균 검증 정확도:', np.round(np.mean(scores), round_param))"
   ]
  },
  {
   "cell_type": "markdown",
   "metadata": {},
   "source": [
    "### 모델별 성능 확인을 위한 함수"
   ]
  },
  {
   "cell_type": "code",
   "execution_count": null,
   "metadata": {},
   "outputs": [],
   "source": [
    "x_train, x_test, y_train, y_test = train_test_split(train_df.drop(['전력소비량(kWh)'], axis=1), train_df['전력소비량(kWh)'], test_size=0.2, random_state=123)"
   ]
  },
  {
   "cell_type": "code",
   "execution_count": null,
   "metadata": {},
   "outputs": [],
   "source": [
    "import matplotlib.pyplot as plt\n",
    "import seaborn as sns\n",
    "\n",
    "my_predictions = {}\n",
    "\n",
    "colors = ['r', 'c', 'm', 'y', 'k', 'khaki', 'teal', 'orchid', 'sandybrown',\n",
    "          'greenyellow', 'dodgerblue', 'deepskyblue', 'rosybrown', 'firebrick',\n",
    "          'deeppink', 'crimson', 'salmon', 'darkred', 'olivedrab', 'olive', \n",
    "          'forestgreen', 'royalblue', 'indigo', 'navy', 'mediumpurple', 'chocolate',\n",
    "          'gold', 'darkorange', 'seagreen', 'turquoise', 'steelblue', 'slategray', \n",
    "          'peru', 'midnightblue', 'slateblue', 'dimgray', 'cadetblue', 'tomato'\n",
    "         ]\n",
    "\n",
    "def plot_predictions(name_, pred, actual):\n",
    "    df = pd.DataFrame({'prediction': pred, 'actual': y_test})\n",
    "    df = df.sort_values(by='actual').reset_index(drop=True)\n",
    "\n",
    "    plt.figure(figsize=(12, 9))\n",
    "    plt.scatter(df.index, df['prediction'], marker='x', color='r')\n",
    "    plt.scatter(df.index, df['actual'], alpha=0.7, marker='o', color='black')\n",
    "    plt.title(name_, fontsize=15)\n",
    "    plt.legend(['prediction', 'actual'], fontsize=12)\n",
    "    plt.show()\n",
    "\n",
    "def mse_eval(name_, pred, actual):\n",
    "    global predictions\n",
    "    global colors\n",
    "\n",
    "    plot_predictions(name_, pred, actual)\n",
    "\n",
    "    mse = mean_squared_error(pred, actual)\n",
    "    my_predictions[name_] = mse\n",
    "\n",
    "    y_value = sorted(my_predictions.items(), key=lambda x: x[1], reverse=True)\n",
    "    \n",
    "    df = pd.DataFrame(y_value, columns=['model', 'mse'])\n",
    "    print(df)\n",
    "    min_ = df['mse'].min() - 10\n",
    "    max_ = df['mse'].max() + 10\n",
    "    \n",
    "    length = len(df)\n",
    "    \n",
    "    plt.figure(figsize=(10, length))\n",
    "    ax = plt.subplot()\n",
    "    ax.set_yticks(np.arange(len(df)))\n",
    "    ax.set_yticklabels(df['model'], fontsize=15)\n",
    "    bars = ax.barh(np.arange(len(df)), df['mse'])\n",
    "    \n",
    "    for i, v in enumerate(df['mse']):\n",
    "        idx = np.random.choice(len(colors))\n",
    "        bars[i].set_color(colors[idx])\n",
    "        ax.text(v + 2, i, str(round(v, 3)), color='k', fontsize=15, fontweight='bold')\n",
    "        \n",
    "    plt.title('MSE Error', fontsize=18)\n",
    "    plt.xlim(min_, max_)\n",
    "    \n",
    "    plt.show()\n",
    "\n",
    "def remove_model(name_):\n",
    "    global my_predictions\n",
    "    try:\n",
    "        del my_predictions[name_]\n",
    "    except KeyError:\n",
    "        return False\n",
    "    return True"
   ]
  },
  {
   "cell_type": "markdown",
   "metadata": {},
   "source": [
    "## LinearRegression"
   ]
  },
  {
   "cell_type": "code",
   "execution_count": null,
   "metadata": {},
   "outputs": [],
   "source": [
    "model = LinearRegression(n_jobs=-1)\n",
    "model.fit(x_train, y_train)\n",
    "pred = model.predict(x_test)\n",
    "print(model.coef_)\n",
    "print(model.intercept_)"
   ]
  },
  {
   "cell_type": "code",
   "execution_count": null,
   "metadata": {},
   "outputs": [],
   "source": [
    "mse_eval('LinearRegression', pred, y_test)"
   ]
  },
  {
   "cell_type": "code",
   "execution_count": null,
   "metadata": {},
   "outputs": [],
   "source": [
    "# 값이 커질 수록 큰 규제입니다.\n",
    "alphas = [100, 10, 1, 0.1, 0.01, 0.001, 0.0001]"
   ]
  },
  {
   "cell_type": "code",
   "execution_count": null,
   "metadata": {},
   "outputs": [],
   "source": [
    "for alpha in alphas:\n",
    "    ridge = Ridge(alpha=alpha)\n",
    "    ridge.fit(x_train, y_train)\n",
    "    pred = ridge.predict(x_test)\n",
    "    mse_eval('Ridge(alpha={})'.format(alpha), pred, y_test)"
   ]
  },
  {
   "cell_type": "code",
   "execution_count": null,
   "metadata": {},
   "outputs": [],
   "source": [
    "ridge.coef_"
   ]
  },
  {
   "cell_type": "code",
   "execution_count": null,
   "metadata": {},
   "outputs": [],
   "source": [
    "# ridge 의 alpha 값 1을 적용\n",
    "ridge = Ridge(alpha=1)\n",
    "ridge_pred = ridge.fit(x_train,y_train).predict(x_test)"
   ]
  },
  {
   "cell_type": "code",
   "execution_count": null,
   "metadata": {},
   "outputs": [],
   "source": [
    "# 값이 커질 수록 큰 규제입니다.\n",
    "# alpha값이 커질수록 직선에 가까워진다.\n",
    "alphas = [1, 0.1, 0.01, 0.001, 0.0001]"
   ]
  },
  {
   "cell_type": "code",
   "execution_count": null,
   "metadata": {},
   "outputs": [],
   "source": [
    "for alpha in alphas:\n",
    "    lasso = Lasso(alpha=alpha)\n",
    "    lasso.fit(x_train, y_train)\n",
    "    pred = lasso.predict(x_test)\n",
    "    mse_eval('Lasso(alpha={})'.format(alpha), pred, y_test)"
   ]
  },
  {
   "cell_type": "code",
   "execution_count": null,
   "metadata": {},
   "outputs": [],
   "source": [
    "# Lasso에 alpha 값 0.1을 적용\n",
    "lasso = Lasso(alpha=0.1)\n",
    "lasso_pred = lasso.fit(x_train, y_train).predict(x_test)"
   ]
  },
  {
   "cell_type": "code",
   "execution_count": null,
   "metadata": {},
   "outputs": [],
   "source": [
    "# ratios가 수식의 r이다.\n",
    "ratios = [0.2, 0.5, 0.8]"
   ]
  },
  {
   "cell_type": "code",
   "execution_count": null,
   "metadata": {},
   "outputs": [],
   "source": [
    "for ratio in ratios:\n",
    "    elasticnet = ElasticNet(alpha=0.5, l1_ratio=ratio)\n",
    "    elasticnet.fit(x_train, y_train)\n",
    "    pred = elasticnet.predict(x_test)\n",
    "    mse_eval('ElasticNet(l1_ratio={})'.format(ratio), pred, y_test)"
   ]
  },
  {
   "cell_type": "code",
   "execution_count": null,
   "metadata": {},
   "outputs": [],
   "source": [
    "# ElasticNet에 Ration 0.8 적용\n",
    "elasticnet = ElasticNet(alpha=0.5, l1_ratio=0.8)\n",
    "elasticnet_pred = elasticnet.fit(x_train, y_train).predict(x_test)"
   ]
  },
  {
   "cell_type": "code",
   "execution_count": null,
   "metadata": {},
   "outputs": [],
   "source": [
    "std_scaler = StandardScaler()\n",
    "std_scaled = std_scaler.fit_transform(x_train)\n",
    "round(pd.DataFrame(std_scaled).describe(), 2)"
   ]
  },
  {
   "cell_type": "code",
   "execution_count": null,
   "metadata": {},
   "outputs": [],
   "source": [
    "minmax_scaler = MinMaxScaler()\n",
    "minmax_scaled = minmax_scaler.fit_transform(x_train)\n",
    "round(pd.DataFrame(minmax_scaled).describe(), 2)"
   ]
  },
  {
   "cell_type": "code",
   "execution_count": null,
   "metadata": {},
   "outputs": [],
   "source": [
    "robust_scaler = RobustScaler()\n",
    "robust_scaled = robust_scaler.fit_transform(x_train)\n",
    "round(pd.DataFrame(robust_scaled).median(), 2)"
   ]
  },
  {
   "cell_type": "code",
   "execution_count": null,
   "metadata": {},
   "outputs": [],
   "source": [
    "elasticnet_pipeline = make_pipeline(\n",
    "    StandardScaler(),\n",
    "    ElasticNet(alpha=0.1, l1_ratio=0.2)\n",
    ")"
   ]
  },
  {
   "cell_type": "code",
   "execution_count": null,
   "metadata": {},
   "outputs": [],
   "source": [
    "elasticnet_pipeline.fit(x_train, y_train)\n",
    "pred = elasticnet_pipeline.predict(x_test)\n",
    "mse_eval('Standard ElasticNet', pred, y_test)"
   ]
  },
  {
   "cell_type": "code",
   "execution_count": null,
   "metadata": {},
   "outputs": [],
   "source": [
    "elasticnet_no_pipeline = ElasticNet(alpha=0.1, l1_ratio=0.2)\n",
    "no_pipelline_pred = elasticnet_no_pipeline.fit(x_train, y_train).predict(x_test)\n",
    "mse_eval('No Standard ElasticNet', no_pipelline_pred, y_test)"
   ]
  },
  {
   "cell_type": "markdown",
   "metadata": {},
   "source": [
    "### Polynomial Features"
   ]
  },
  {
   "cell_type": "code",
   "execution_count": null,
   "metadata": {},
   "outputs": [],
   "source": [
    "poly = PolynomialFeatures(degree=2, include_bias=False)\n",
    "poly_features = poly.fit_transform(x_train)[0]\n",
    "## 질문 왜 [0] ##"
   ]
  },
  {
   "cell_type": "code",
   "execution_count": null,
   "metadata": {},
   "outputs": [],
   "source": [
    "poly_features"
   ]
  },
  {
   "cell_type": "code",
   "execution_count": null,
   "metadata": {},
   "outputs": [],
   "source": [
    "poly_pipeline = make_pipeline(\n",
    "    PolynomialFeatures(degree=3, include_bias=False),\n",
    "    StandardScaler(),\n",
    "    ElasticNet(alpha=0.1, l1_ratio=0.2)\n",
    ")"
   ]
  },
  {
   "cell_type": "code",
   "execution_count": null,
   "metadata": {},
   "outputs": [],
   "source": [
    "poly_pred = poly_pipeline.fit(x_train, y_train).predict(x_test)\n",
    "mse_eval('Poly ElasticNet', poly_pred, y_test)"
   ]
  },
  {
   "cell_type": "markdown",
   "metadata": {},
   "source": [
    "## 보팅(Voting)"
   ]
  },
  {
   "cell_type": "code",
   "execution_count": null,
   "metadata": {},
   "outputs": [],
   "source": [
    "single_models =[\n",
    "    ('linear_reg', model),\n",
    "    ('ridge', ridge),\n",
    "    ('lasso', lasso),\n",
    "    ('elasticnet_pipeline', elasticnet_pipeline),\n",
    "    ('poly_pipeline', poly_pipeline)\n",
    "]"
   ]
  },
  {
   "cell_type": "code",
   "execution_count": null,
   "metadata": {},
   "outputs": [],
   "source": [
    "voting_regressor = VotingRegressor(single_models, n_jobs=-1)\n",
    "voting_regressor.fit(x_train, y_train)\n",
    "voting_pred = voting_regressor.predict(x_test)\n",
    "mse_eval('Voting Ensemble', voting_pred, y_test)"
   ]
  },
  {
   "cell_type": "code",
   "execution_count": null,
   "metadata": {},
   "outputs": [],
   "source": []
  },
  {
   "cell_type": "code",
   "execution_count": null,
   "metadata": {},
   "outputs": [],
   "source": []
  },
  {
   "cell_type": "code",
   "execution_count": null,
   "metadata": {},
   "outputs": [],
   "source": []
  },
  {
   "cell_type": "code",
   "execution_count": null,
   "metadata": {},
   "outputs": [],
   "source": []
  },
  {
   "cell_type": "code",
   "execution_count": null,
   "metadata": {},
   "outputs": [],
   "source": []
  },
  {
   "cell_type": "markdown",
   "metadata": {},
   "source": [
    "## Regression Model Fit"
   ]
  },
  {
   "cell_type": "code",
   "execution_count": null,
   "metadata": {},
   "outputs": [],
   "source": []
  },
  {
   "cell_type": "code",
   "execution_count": null,
   "metadata": {},
   "outputs": [],
   "source": [
    "model = RandomForestRegressor()\n",
    "model.fit(train_x, train_y)"
   ]
  },
  {
   "cell_type": "markdown",
   "metadata": {},
   "source": [
    "## Test Data Pre-Processing"
   ]
  },
  {
   "cell_type": "code",
   "execution_count": null,
   "metadata": {},
   "outputs": [],
   "source": [
    "test_df['month'] = test_df['일시'].apply(lambda x : int(x[4:6]))\n",
    "test_df['day'] = test_df['일시'].apply(lambda x : int(x[6:8]))\n",
    "test_df['time'] = test_df['일시'].apply(lambda x : int(x[9:11]))"
   ]
  },
  {
   "cell_type": "code",
   "execution_count": null,
   "metadata": {},
   "outputs": [],
   "source": [
    "test_x = test_df.drop(columns=['num_date_time', '일시'])"
   ]
  },
  {
   "cell_type": "markdown",
   "metadata": {},
   "source": [
    "## Inference"
   ]
  },
  {
   "cell_type": "code",
   "execution_count": null,
   "metadata": {},
   "outputs": [],
   "source": [
    "preds = model.predict(test_x)"
   ]
  }
 ],
 "metadata": {
  "kernelspec": {
   "display_name": "my_venv",
   "language": "python",
   "name": "python3"
  },
  "language_info": {
   "codemirror_mode": {
    "name": "ipython",
    "version": 3
   },
   "file_extension": ".py",
   "mimetype": "text/x-python",
   "name": "python",
   "nbconvert_exporter": "python",
   "pygments_lexer": "ipython3",
   "version": "3.9.18"
  }
 },
 "nbformat": 4,
 "nbformat_minor": 2
}
