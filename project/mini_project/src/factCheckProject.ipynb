{
 "cells": [
  {
   "cell_type": "code",
   "execution_count": null,
   "metadata": {},
   "outputs": [],
   "source": [
    "# Python Version : 3.9.18\n",
    "# Pandas Version : 2.1.1\n",
    "# Matplotlib Version : 3.8.0\n",
    "# Created: OCT. 18. 2023\n",
    "# Author: D.W. SHIN\n",
    "\n",
    "import platform\n",
    "import pandas as pd\n",
    "import matplotlib.pyplot as plt\n",
    "%matplotlib inline\n",
    "\n",
    "sysOS = platform.system()\n",
    "\n",
    "if sysOS == 'Windows':\n",
    "    # Windows 일 경우\n",
    "    plt.rcParams['font.family'] ='Malgun Gothic'\n",
    "    plt.rcParams['axes.unicode_minus'] =False\n",
    "elif sysOS == 'Darwin':\n",
    "    # Mac일 경우\n",
    "    plt.rcParams['font.family'] ='AppleGothic'\n",
    "    plt.rcParams['axes.unicode_minus'] =False\n",
    "else:\n",
    "    print('Please check your Korean font!!')\n",
    "    !sudo apt-get install -y fonts-nanum\n",
    "    !sudo fc-cache -fv\n",
    "    !rm ~/.cache/matplotlib -rf\n",
    "    print('#' * 30)\n",
    "    print('#' * 30)\n",
    "    print('런타임을 다시 시작해 주세요~~~')\n",
    "    print('#' * 30)\n",
    "    print('#' * 30)\n"
   ]
  },
  {
   "cell_type": "code",
   "execution_count": null,
   "metadata": {},
   "outputs": [],
   "source": [
    "try:\n",
    "    sysOS\n",
    "except NameError:\n",
    "    import platform\n",
    "    import pandas as pd\n",
    "    import matplotlib.pyplot as plt\n",
    "    %matplotlib inline\n",
    "else:\n",
    "    print(\"Keep going~!\")\n",
    "\n",
    "sysOS = platform.system()\n",
    "\n",
    "cvsPath =''\n",
    "\n",
    "if sysOS == 'Linux':\n",
    "    plt.rc('font', family='NanumBarunGothic')\n",
    "    from google.colab import drive\n",
    "    drive.mount('/content/drive')\n",
    "    cvsPath = '/content/drive/MyDrive/구글클라우드인공지능개발자과정1기/데이터분석_미니프로젝트/Industry_Employed_Immigrants_10th_20231018150816.csv'\n",
    "else:\n",
    "    cvsPath = '../data/Industry_Employed_Immigrants_10th_20231018150816.csv'\n",
    "\n",
    "df1 = pd.read_csv(cvsPath, encoding='euc-kr', header=[0,1], skipinitialspace=True)"
   ]
  },
  {
   "cell_type": "code",
   "execution_count": null,
   "metadata": {},
   "outputs": [],
   "source": [
    "df1.info()"
   ]
  },
  {
   "cell_type": "code",
   "execution_count": null,
   "metadata": {},
   "outputs": [],
   "source": [
    "df1.head()"
   ]
  },
  {
   "cell_type": "code",
   "execution_count": null,
   "metadata": {},
   "outputs": [],
   "source": [
    "# Multi Header 선택하기\n",
    "df1[('2017', '합계 (천명)')]"
   ]
  },
  {
   "cell_type": "code",
   "execution_count": null,
   "metadata": {},
   "outputs": [],
   "source": [
    "# 한번 더 복습~!\n",
    "df1[('2017','농림어업 (천명)')]"
   ]
  },
  {
   "cell_type": "code",
   "execution_count": null,
   "metadata": {},
   "outputs": [],
   "source": [
    "df1.loc[3, :]"
   ]
  },
  {
   "cell_type": "code",
   "execution_count": null,
   "metadata": {},
   "outputs": [],
   "source": [
    "ps = df1.iloc[3, :]"
   ]
  },
  {
   "cell_type": "code",
   "execution_count": null,
   "metadata": {},
   "outputs": [],
   "source": [
    "ps.info()"
   ]
  },
  {
   "cell_type": "code",
   "execution_count": null,
   "metadata": {},
   "outputs": [],
   "source": [
    "df2 = pd.DataFrame(ps)\n",
    "df2"
   ]
  },
  {
   "cell_type": "code",
   "execution_count": null,
   "metadata": {},
   "outputs": [],
   "source": [
    "df2.info()"
   ]
  },
  {
   "cell_type": "code",
   "execution_count": null,
   "metadata": {},
   "outputs": [],
   "source": [
    "df2.index"
   ]
  },
  {
   "cell_type": "code",
   "execution_count": null,
   "metadata": {},
   "outputs": [],
   "source": [
    "df2.columns"
   ]
  },
  {
   "cell_type": "code",
   "execution_count": null,
   "metadata": {},
   "outputs": [],
   "source": [
    "df2.drop([('대상별(1)',           '대상별(1)'),\n",
    "          ('특성별(1)',           '특성별(1)'),\n",
    "          ('특성별(2)',           '특성별(2)')], axis=0, inplace=True)"
   ]
  },
  {
   "cell_type": "code",
   "execution_count": null,
   "metadata": {},
   "outputs": [],
   "source": [
    "df2.head(10)"
   ]
  },
  {
   "cell_type": "code",
   "execution_count": null,
   "metadata": {},
   "outputs": [],
   "source": [
    "df2.info()"
   ]
  },
  {
   "cell_type": "code",
   "execution_count": null,
   "metadata": {},
   "outputs": [],
   "source": [
    "df2 = df2.reset_index()"
   ]
  },
  {
   "cell_type": "code",
   "execution_count": null,
   "metadata": {},
   "outputs": [],
   "source": [
    "df2.head()"
   ]
  },
  {
   "cell_type": "code",
   "execution_count": null,
   "metadata": {},
   "outputs": [],
   "source": [
    "df2.columns = ['연도', '목록', '외국인근로총합계']"
   ]
  },
  {
   "cell_type": "code",
   "execution_count": null,
   "metadata": {},
   "outputs": [],
   "source": [
    "# df2['외국인근로총합계'].astype(float)\n",
    "df2['외국인근로총합계'] = pd.to_numeric(df2['외국인근로총합계'], errors='coerce')"
   ]
  },
  {
   "cell_type": "code",
   "execution_count": null,
   "metadata": {},
   "outputs": [],
   "source": [
    "df2.info()"
   ]
  },
  {
   "cell_type": "code",
   "execution_count": null,
   "metadata": {},
   "outputs": [],
   "source": [
    "df2.head()"
   ]
  },
  {
   "cell_type": "code",
   "execution_count": null,
   "metadata": {},
   "outputs": [],
   "source": [
    "pivot_df = df2.pivot(index='연도', columns='목록', values='외국인근로총합계')\n",
    "pivot_df"
   ]
  },
  {
   "cell_type": "code",
   "execution_count": null,
   "metadata": {},
   "outputs": [],
   "source": [
    "pivot_df = pivot_df.reset_index()"
   ]
  },
  {
   "cell_type": "code",
   "execution_count": null,
   "metadata": {},
   "outputs": [],
   "source": [
    "pivot_df.index"
   ]
  },
  {
   "cell_type": "code",
   "execution_count": null,
   "metadata": {},
   "outputs": [],
   "source": [
    "pivot_df.columns"
   ]
  },
  {
   "cell_type": "code",
   "execution_count": null,
   "metadata": {},
   "outputs": [],
   "source": [
    "chart_base = pivot_df.drop('- 제조업 (천명)', axis=1)\n",
    "chart_base"
   ]
  },
  {
   "cell_type": "code",
   "execution_count": null,
   "metadata": {},
   "outputs": [],
   "source": [
    "ps2 = pivot_df['합계 (천명)']\n",
    "chart2 = pd.DataFrame(ps2)\n",
    "chart2"
   ]
  },
  {
   "cell_type": "code",
   "execution_count": null,
   "metadata": {},
   "outputs": [],
   "source": [
    "chart_base['total'] = chart_base.iloc[:, 1:7].sum(axis=1)"
   ]
  },
  {
   "cell_type": "code",
   "execution_count": null,
   "metadata": {},
   "outputs": [],
   "source": [
    "chart_base['건설업 (천명)P'] = round(chart_base['건설업 (천명)'] / chart_base['total'] * 100, 2)\n",
    "chart_base['광업·제조업 (천명)P'] = round(chart_base['광업·제조업 (천명)'] / chart_base['total'] * 100, 2)\n",
    "chart_base['농림어업 (천명)P'] = round(chart_base['농림어업 (천명)'] / chart_base['total'] * 100, 2)\n",
    "chart_base['도소매·음식·숙박 (천명)P'] = round(chart_base['도소매·음식·숙박 (천명)'] / chart_base['total'] * 100, 2)\n",
    "chart_base['사업·개인·공공서비스 (천명)P'] = round(chart_base['사업·개인·공공서비스 (천명)'] / chart_base['total'] * 100, 2)\n",
    "chart_base['전기·운수·통신·금융 (천명)P'] = round(chart_base['전기·운수·통신·금융 (천명)'] / chart_base['total'] * 100, 2)"
   ]
  },
  {
   "cell_type": "code",
   "execution_count": null,
   "metadata": {},
   "outputs": [],
   "source": [
    "chart_base"
   ]
  },
  {
   "cell_type": "code",
   "execution_count": null,
   "metadata": {},
   "outputs": [],
   "source": [
    "chart_base['total_p'] = chart_base.iloc[:, 9:15].sum(axis=1)"
   ]
  },
  {
   "cell_type": "code",
   "execution_count": null,
   "metadata": {},
   "outputs": [],
   "source": [
    "chart_base"
   ]
  },
  {
   "cell_type": "code",
   "execution_count": null,
   "metadata": {},
   "outputs": [],
   "source": [
    "chart_base.head()"
   ]
  },
  {
   "cell_type": "code",
   "execution_count": null,
   "metadata": {},
   "outputs": [],
   "source": [
    "my_df = chart_base.iloc[:,[0, 9,10,11,12,13,14]]\n",
    "\n",
    "my_df.set_index(my_df['연도'], inplace=True)\n",
    "\n",
    "my_df.drop('연도', axis=1)"
   ]
  },
  {
   "cell_type": "code",
   "execution_count": null,
   "metadata": {},
   "outputs": [],
   "source": [
    "plt.figure(figsize=(7,7))\n",
    "\n",
    "my_df.plot(kind='bar', stacked=True)\n",
    "\n",
    "plt.xlabel('연도', fontsize = 10)\n",
    "plt.ylabel('목록', fontsize = 10)\n",
    "\n",
    "plt.legend(loc='upper right',bbox_to_anchor=(1.5, 1.0))\n",
    "plt.show()"
   ]
  },
  {
   "cell_type": "code",
   "execution_count": null,
   "metadata": {},
   "outputs": [],
   "source": [
    "# pivot_df.plot.bar(stacked=True, figsize=(15,7))"
   ]
  },
  {
   "cell_type": "markdown",
   "metadata": {},
   "source": [
    "### 그외 차트 1\n",
    "- 잘 안됨!!"
   ]
  },
  {
   "cell_type": "code",
   "execution_count": null,
   "metadata": {},
   "outputs": [],
   "source": [
    "fig, ax = plt.subplots()\n",
    "fig.set_size_inches(15,10)\n",
    "ax.set_axisbelow(True)\n",
    "ax.grid(True, axis='y')\n",
    "\n",
    "ax.bar(chart_base['연도'], chart_base['건설업 (천명)P'], label = '건설업 (천명)')\n",
    "ax.bar(chart_base['연도'], chart_base['광업·제조업 (천명)P'], label = '광업·제조업 (천명)')\n",
    "ax.bar(chart_base['연도'], chart_base['농림어업 (천명)P'], label = '농림어업 (천명)')\n",
    "ax.bar(chart_base['연도'], chart_base['도소매·음식·숙박 (천명)P'], label = '도소매·음식·숙박 (천명)')\n",
    "ax.bar(chart_base['연도'], chart_base['사업·개인·공공서비스 (천명)P'], label = '사업·개인·공공서비스 (천명)')\n",
    "ax.bar(chart_base['연도'], chart_base['전기·운수·통신·금융 (천명)P'], label = '전기·운수·통신·금융 (천명)')\n",
    "\n",
    "ax.set_xlabel('연도', fontsize = 15)\n",
    "ax.set_ylabel('목록', fontsize = 15)\n",
    "\n",
    "ax.tick_params(axis= 'x')\n",
    "ax.tick_params(axis= 'y')\n",
    "\n",
    "ax.legend()\n",
    "\n",
    "for i in range(len(chart_base['연도'])):\n",
    "    ax.text(chart_base['연도'][i], chart_base['건설업 (천명)P'][i], str(chart_base['건설업 (천명)P'][i]) + '%', fontsize = 15, horizontalalignment='center', color='w')\n",
    "    ax.text(chart_base['연도'][i], chart_base['광업·제조업 (천명)P'][i], str(chart_base['광업·제조업 (천명)P'][i]) + '%', fontsize = 15, horizontalalignment='center', color='w')\n",
    "    ax.text(chart_base['연도'][i], chart_base['농림어업 (천명)P'][i], str(chart_base['농림어업 (천명)P'][i]) + '%', fontsize = 15, horizontalalignment='center', color='w')\n",
    "    ax.text(chart_base['연도'][i], chart_base['도소매·음식·숙박 (천명)P'][i], str(chart_base['도소매·음식·숙박 (천명)P'][i]) + '%', fontsize = 15, horizontalalignment='center', color='w')\n",
    "    ax.text(chart_base['연도'][i], chart_base['사업·개인·공공서비스 (천명)P'][i], str(chart_base['사업·개인·공공서비스 (천명)P'][i]) + '%', fontsize = 15, horizontalalignment='center', color='w')\n",
    "    ax.text(chart_base['연도'][i], chart_base['전기·운수·통신·금융 (천명)P'][i], str(chart_base['전기·운수·통신·금융 (천명)P'][i]) + '%', fontsize = 15, horizontalalignment='center', color='w')\n",
    "\n",
    "\n",
    "plt.show()"
   ]
  },
  {
   "cell_type": "markdown",
   "metadata": {},
   "source": [
    "### 그외 차트 2"
   ]
  },
  {
   "cell_type": "code",
   "execution_count": null,
   "metadata": {},
   "outputs": [],
   "source": [
    "plt.bar(chart_base['연도'], chart_base['건설업 (천명)'])\n",
    "plt.bar(chart_base['연도'], chart_base['광업·제조업 (천명)'])\n",
    "plt.bar(chart_base['연도'], chart_base['농림어업 (천명)'])\n",
    "plt.bar(chart_base['연도'], chart_base['도소매·음식·숙박 (천명)'])\n",
    "plt.bar(chart_base['연도'], chart_base['사업·개인·공공서비스 (천명)'])\n",
    "plt.bar(chart_base['연도'], chart_base['전기·운수·통신·금융 (천명)'])\n",
    "plt.show()"
   ]
  },
  {
   "cell_type": "markdown",
   "metadata": {},
   "source": [
    "### 그외 차트 3"
   ]
  },
  {
   "cell_type": "code",
   "execution_count": null,
   "metadata": {},
   "outputs": [],
   "source": [
    "bar_chart = chart_base.iloc[:, [0, 9, 10, 11, 12, 13, 14]]\n",
    "bar_chart.info()\n",
    "\n",
    "ax = bar_chart.plot(kind='barh', stacked=True, title=\"산업별 외국인 취업자 비중(%)\", rot=0)\n",
    "for p in ax.patches:\n",
    "    left, bottom, width, height = p.get_bbox().bounds\n",
    "    ax.annotate(\"%.1f\"%(width*100), xy=(left+width/2, bottom+height/2), ha='center', va='center')\n",
    "plt.box(False)\n",
    "plt.show()"
   ]
  },
  {
   "cell_type": "code",
   "execution_count": null,
   "metadata": {},
   "outputs": [],
   "source": []
  }
 ],
 "metadata": {
  "kernelspec": {
   "display_name": "my_venv",
   "language": "python",
   "name": "python3"
  },
  "language_info": {
   "codemirror_mode": {
    "name": "ipython",
    "version": 3
   },
   "file_extension": ".py",
   "mimetype": "text/x-python",
   "name": "python",
   "nbconvert_exporter": "python",
   "pygments_lexer": "ipython3",
   "version": "3.9.18"
  }
 },
 "nbformat": 4,
 "nbformat_minor": 2
}
